{
  "cells": [
    {
      "cell_type": "markdown",
      "metadata": {
        "id": "view-in-github",
        "colab_type": "text"
      },
      "source": [
        "<a href=\"https://colab.research.google.com/github/AlekhyaPoreddy/Alekhya_INFO-5502/blob/main/in_class_exercise_01.ipynb\" target=\"_parent\"><img src=\"https://colab.research.google.com/assets/colab-badge.svg\" alt=\"Open In Colab\"/></a>"
      ]
    },
    {
      "cell_type": "markdown",
      "metadata": {
        "id": "DymRJbxDBCnf"
      },
      "source": [
        "# **The first Lab-assignment (07/15/2022 11:59'AM' to 7/19/2022 11:59PM, 50 points in total)**"
      ]
    },
    {
      "cell_type": "markdown",
      "metadata": {
        "id": "jJDe71iLB616"
      },
      "source": [
        "(1) Write a Python program to count the number of characters in a string. (6 points)\n",
        "\n",
        "Sample String : 'google.com', \n",
        "\n",
        "Expected Result : {'o': 3, 'g': 2, '.': 1, 'e': 1, 'l': 1, 'm': 1, 'c': 1}"
      ]
    },
    {
      "cell_type": "code",
      "execution_count": 2,
      "metadata": {
        "colab": {
          "base_uri": "https://localhost:8080/"
        },
        "id": "MtKskTzbCLaU",
        "outputId": "47596df0-79f6-43e8-dc55-ef713f134663"
      },
      "outputs": [
        {
          "output_type": "stream",
          "name": "stdout",
          "text": [
            "Enter your input String: Alekhya Poreddy\n",
            "{'o': 1, 'd': 2, 'y': 2, 'P': 1, ' ': 1, 'l': 1, 'r': 1, 'A': 1, 'h': 1, 'e': 2, 'k': 1, 'a': 1}\n"
          ]
        }
      ],
      "source": [
        "# Count number of characters in a string\n",
        "inputString = input(\"Enter your input String: \")\n",
        "output = {}\n",
        "for char in set(inputString):\n",
        "  #count each character and add it to the output\n",
        "  output[char] = inputString.count(char)\n",
        "#print output\n",
        "print(output)"
      ]
    },
    {
      "cell_type": "markdown",
      "metadata": {
        "id": "55W9AMdXCSpV"
      },
      "source": [
        "(2) Write a Python program to sum all the items in a list. (6 points)"
      ]
    },
    {
      "cell_type": "code",
      "execution_count": 3,
      "metadata": {
        "colab": {
          "base_uri": "https://localhost:8080/"
        },
        "id": "I57NXsauCec2",
        "outputId": "b52e122b-1feb-4c87-bbe3-5f9f1bfd282d"
      },
      "outputs": [
        {
          "output_type": "stream",
          "name": "stdout",
          "text": [
            "The sum of the elements in a given list is: 12\n"
          ]
        }
      ],
      "source": [
        "# calculates the sum of all elements in a list\n",
        "inputList = [1,1,2,2,3,3]\n",
        "sum = 0\n",
        "for number in inputList:\n",
        " # Add each num to sum\n",
        " sum = sum + number\n",
        "\n",
        "print(\"The sum of the elements in a given list is: {}\".format(sum))"
      ]
    },
    {
      "cell_type": "markdown",
      "metadata": {
        "id": "4ulBZ6yhCi9F"
      },
      "source": [
        "(3) Write a Python program to get a string from a given string where all occurrences of its first char have been changed to '\\$', except the first char itself. (6 points)\n",
        "\n",
        "Sample String : 'restart', \n",
        "\n",
        "Expected Result : 'resta\\$t'"
      ]
    },
    {
      "cell_type": "code",
      "execution_count": 7,
      "metadata": {
        "colab": {
          "base_uri": "https://localhost:8080/"
        },
        "id": "Fj0XhwbBCw2o",
        "outputId": "55e3c269-fec0-405b-8241-780067d58b6e"
      },
      "outputs": [
        {
          "output_type": "stream",
          "name": "stdout",
          "text": [
            "el$m$nt\n"
          ]
        }
      ],
      "source": [
        "# Replace all occurences of its first char to '$' except firt char itself\n",
        "inputString = \"element\"\n",
        "print(\"\".join((inputString[0], inputString[1:].replace(inputString[0], \"$\"))))"
      ]
    },
    {
      "cell_type": "markdown",
      "metadata": {
        "id": "_bIP7s1MCzue"
      },
      "source": [
        "(4) Write a program with python which could accept two parameter a and b to calculate and output the result of S, where \n",
        "\n",
        "$\\ S=3.14*(1+a/b)^3$ (6 points)\n",
        "\n"
      ]
    },
    {
      "cell_type": "code",
      "execution_count": 9,
      "metadata": {
        "colab": {
          "base_uri": "https://localhost:8080/"
        },
        "id": "w79QilHXD3Mg",
        "outputId": "7a16afa2-f88f-4cb5-a374-21af90feaa7c"
      },
      "outputs": [
        {
          "output_type": "stream",
          "name": "stdout",
          "text": [
            "Enter value of a: 5\n",
            "Enter value of b: 5\n",
            "The result of S is: 25.12\n"
          ]
        }
      ],
      "source": [
        "# Calculate the expression of S\n",
        "a = int(input(\"Enter value of a: \"))\n",
        "b = int(input(\"Enter value of b: \"))\n",
        "\n",
        "S = 3.14 * (1 + (a/b)) ** 3\n",
        "print(\"The result of S is: {}\".format(S))"
      ]
    },
    {
      "cell_type": "markdown",
      "metadata": {
        "id": "xCa2bK9aD4Q3"
      },
      "source": [
        "(5) Write a Python program to concatenate following dictionaries to create a new one. (6 points)\n",
        "\n",
        "Sample Dictionary : dic1={1:10, 2:20}, dic2={3:30, 4:40}, dic3={5:50,6:60}, \n",
        "\n",
        "Expected Result : {1: 10, 2: 20, 3: 30, 4: 40, 5: 50, 6: 60}\n"
      ]
    },
    {
      "cell_type": "code",
      "execution_count": 12,
      "metadata": {
        "colab": {
          "base_uri": "https://localhost:8080/"
        },
        "id": "_z4aLqAbEET1",
        "outputId": "a319586c-0c7b-4767-aaa9-fb83ad6a63e8"
      },
      "outputs": [
        {
          "output_type": "stream",
          "name": "stdout",
          "text": [
            "{1: 10, 2: 20, 3: 30, 4: 40, 5: 50, 6: 60}\n"
          ]
        }
      ],
      "source": [
        "# Concatenate given dictionaries to a new one\n",
        "dic1={1:10,2:20}; dic2={3:30,4:40}; dic3={5:50,6:60};\n",
        "\n",
        "output = {}\n",
        "for i in [dic1, dic2, dic3]:\n",
        "  # adding each dictionary to output\n",
        "  output.update(i)\n",
        "\n",
        "print(output)"
      ]
    },
    {
      "cell_type": "markdown",
      "metadata": {
        "id": "0v48Vqa7FrQh"
      },
      "source": [
        "(6) Write a Python program to check whether an element exists within a tuple. (6 points)"
      ]
    },
    {
      "cell_type": "code",
      "execution_count": 43,
      "metadata": {
        "colab": {
          "base_uri": "https://localhost:8080/"
        },
        "id": "7WEmgq-DF2P1",
        "outputId": "1d2546b1-ff5a-497d-aecb-1577d4509599"
      },
      "outputs": [
        {
          "output_type": "stream",
          "name": "stdout",
          "text": [
            "Enter element to find in a tuple: 8\n",
            "Does entered element present in tuple:True\n"
          ]
        }
      ],
      "source": [
        "# check whether an element exists within a tuple.\n",
        "test_tuple = ('hello','8','6','4','8')\n",
        "ele = input(\"Enter element to find in a tuple: \")\n",
        "result = ele in test_tuple\n",
        "print(\"Does entered element present in tuple:\" + str(result))"
      ]
    },
    {
      "cell_type": "markdown",
      "metadata": {
        "id": "vD5PYLMuGga_"
      },
      "source": [
        "(7) Write a Python program to find maximum and the minimum value in a set. (6 points)"
      ]
    },
    {
      "cell_type": "code",
      "execution_count": 49,
      "metadata": {
        "colab": {
          "base_uri": "https://localhost:8080/"
        },
        "id": "t0D5kdJUGjjw",
        "outputId": "ee106b2c-1b38-4435-90dd-f2e6e35c82f4"
      },
      "outputs": [
        {
          "output_type": "stream",
          "name": "stdout",
          "text": [
            "Max value is: \n",
            "150\n",
            "Min value is: \n",
            "5\n"
          ]
        }
      ],
      "source": [
        "# Find maximum and the minimum value in a set\n",
        "test_set = {100, 150, 25, 75, 50, 15, 5}\n",
        "print(\"Max value is: \")\n",
        "print(max(test_set))\n",
        "print(\"Min value is: \")\n",
        "print(min(test_set))"
      ]
    },
    {
      "cell_type": "markdown",
      "metadata": {
        "id": "OBcrF42zLweT"
      },
      "source": [
        "(8) Write a Python program to find the duplicate elements in a given array of integers. Return -1 If there are no such elements. (8 points)"
      ]
    },
    {
      "cell_type": "code",
      "execution_count": 59,
      "metadata": {
        "colab": {
          "base_uri": "https://localhost:8080/"
        },
        "id": "rCJsLCmoLweT",
        "outputId": "6a4159de-37c6-4059-b664-1c96fa815276"
      },
      "outputs": [
        {
          "output_type": "stream",
          "name": "stdout",
          "text": [
            "1, 2, 4, "
          ]
        }
      ],
      "source": [
        "from numpy.core.defchararray import endswith\n",
        "# Find the duplicate elements in a given array of integers\n",
        "import numpy as np\n",
        "arr = np.array([1,2,1,2,2,2,3,0,4,4])\n",
        "\n",
        "flag = 0\n",
        "\n",
        "for number in set(arr):\n",
        "  # get count of occurences which are > 1.\n",
        "  if np.count_nonzero(arr == number) > 1:\n",
        "    flag = 1\n",
        "    print(number, end = ', ')\n",
        "\n",
        "# if no duplicates found, then we print '-1'.\n",
        "if flag == 0:\n",
        "  print(\"-1\")"
      ]
    }
  ],
  "metadata": {
    "colab": {
      "collapsed_sections": [],
      "name": "in_class_exercise_01.ipynb",
      "provenance": [],
      "include_colab_link": true
    },
    "kernelspec": {
      "display_name": "Python 3 (ipykernel)",
      "language": "python",
      "name": "python3"
    },
    "language_info": {
      "codemirror_mode": {
        "name": "ipython",
        "version": 3
      },
      "file_extension": ".py",
      "mimetype": "text/x-python",
      "name": "python",
      "nbconvert_exporter": "python",
      "pygments_lexer": "ipython3",
      "version": "3.9.12"
    },
    "vscode": {
      "interpreter": {
        "hash": "5c6a7f839effdddf35473dacbb9a8184e57ebbba5133cab03b12e4f28d4f0d0f"
      }
    }
  },
  "nbformat": 4,
  "nbformat_minor": 0
}