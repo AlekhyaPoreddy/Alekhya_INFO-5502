{
  "cells": [
    {
      "cell_type": "markdown",
      "metadata": {
        "id": "view-in-github",
        "colab_type": "text"
      },
      "source": [
        "<a href=\"https://colab.research.google.com/github/AlekhyaPoreddy/Alekhya_INFO-5502/blob/main/INFO_5502_Final_Exam_Summer_2022.ipynb\" target=\"_parent\"><img src=\"https://colab.research.google.com/assets/colab-badge.svg\" alt=\"Open In Colab\"/></a>"
      ]
    },
    {
      "cell_type": "markdown",
      "metadata": {
        "id": "l1jOFO9mwbbo"
      },
      "source": [
        "### INFO 5502 Final Exam (05/12/2022, 500 points in total)"
      ]
    },
    {
      "cell_type": "markdown",
      "metadata": {
        "id": "UlLxfUifwbbs"
      },
      "source": [
        "<span style='background:yellow'>**Question 1 (100 pt).**</span> We want to create a birthday frequency graph using the data on births in the United States, provided by the Centers for Disease Control (CDC). You can download the data from my GitHub link:https://github.com/unt-iialab/info5502-spring2022/blob/main/datasets/births.csv \n",
        "\n",
        "Please visualize the data as the following figure using python (you can use any data visualization packages):\n",
        "\n",
        "\n",
        "![title](https://github.com/suthapalliuday/Rough-Work/blob/main/SciBERT_cm.png)"
      ]
    },
    {
      "cell_type": "code",
      "execution_count": 89,
      "metadata": {
        "id": "k9xKv-Vlwbbt"
      },
      "outputs": [],
      "source": [
        "\n",
        "\n",
        "\n",
        "%matplotlib inline\n",
        "import matplotlib.pyplot as plt\n",
        "import matplotlib as mpl\n",
        "import pandas as pd\n",
        "import numpy as nd\n",
        "from datetime import date\n",
        "\n"
      ]
    },
    {
      "cell_type": "code",
      "source": [
        "df_birth = pd.read_csv(\"https://raw.githubusercontent.com/unt-iialab/info5502-spring2022/main/datasets/births.csv\")\n",
        "\n",
        "quartiles = np.percentile(df_birth['births'], [25, 50, 75])\n",
        "mu, sig = quartiles[1], 0.74 * (quartiles[2] - quartiles[0])\n",
        "df_birth = df_birth.query('(births > @mu - 5 * @sig) & (births < @mu + 5 * @sig)')\n",
        "df_birth['date'] = pd.to_datetime(df_birth[['year', 'month', 'day']])"
      ],
      "metadata": {
        "id": "OlyFe_7Nw4zw"
      },
      "execution_count": 2,
      "outputs": []
    },
    {
      "cell_type": "code",
      "source": [
        "df_birth_freqdf_birth = df_birth\n",
        "df_birth_freqdf_birth.groupby('date').mean()['births'].reset_index().rename(columns={'births':'avg_birth_rate'})"
      ],
      "metadata": {
        "colab": {
          "base_uri": "https://localhost:8080/",
          "height": 424
        },
        "id": "-Zvc1AM2xDwV",
        "outputId": "1d56d065-8dbc-48ed-8590-f89866de88f4"
      },
      "execution_count": 6,
      "outputs": [
        {
          "output_type": "execute_result",
          "data": {
            "text/plain": [
              "           date  avg_birth_rate\n",
              "0    1969-01-01          4243.0\n",
              "1    1969-01-02          4501.0\n",
              "2    1969-01-03          4771.0\n",
              "3    1969-01-04          4480.0\n",
              "4    1969-01-05          4195.0\n",
              "...         ...             ...\n",
              "7300 1988-12-27          5764.0\n",
              "7301 1988-12-28          5923.5\n",
              "7302 1988-12-29          5852.0\n",
              "7303 1988-12-30          5918.5\n",
              "7304 1988-12-31          4566.5\n",
              "\n",
              "[7305 rows x 2 columns]"
            ],
            "text/html": [
              "\n",
              "  <div id=\"df-b92c11ce-f4de-4373-960c-bf39a0643322\">\n",
              "    <div class=\"colab-df-container\">\n",
              "      <div>\n",
              "<style scoped>\n",
              "    .dataframe tbody tr th:only-of-type {\n",
              "        vertical-align: middle;\n",
              "    }\n",
              "\n",
              "    .dataframe tbody tr th {\n",
              "        vertical-align: top;\n",
              "    }\n",
              "\n",
              "    .dataframe thead th {\n",
              "        text-align: right;\n",
              "    }\n",
              "</style>\n",
              "<table border=\"1\" class=\"dataframe\">\n",
              "  <thead>\n",
              "    <tr style=\"text-align: right;\">\n",
              "      <th></th>\n",
              "      <th>date</th>\n",
              "      <th>avg_birth_rate</th>\n",
              "    </tr>\n",
              "  </thead>\n",
              "  <tbody>\n",
              "    <tr>\n",
              "      <th>0</th>\n",
              "      <td>1969-01-01</td>\n",
              "      <td>4243.0</td>\n",
              "    </tr>\n",
              "    <tr>\n",
              "      <th>1</th>\n",
              "      <td>1969-01-02</td>\n",
              "      <td>4501.0</td>\n",
              "    </tr>\n",
              "    <tr>\n",
              "      <th>2</th>\n",
              "      <td>1969-01-03</td>\n",
              "      <td>4771.0</td>\n",
              "    </tr>\n",
              "    <tr>\n",
              "      <th>3</th>\n",
              "      <td>1969-01-04</td>\n",
              "      <td>4480.0</td>\n",
              "    </tr>\n",
              "    <tr>\n",
              "      <th>4</th>\n",
              "      <td>1969-01-05</td>\n",
              "      <td>4195.0</td>\n",
              "    </tr>\n",
              "    <tr>\n",
              "      <th>...</th>\n",
              "      <td>...</td>\n",
              "      <td>...</td>\n",
              "    </tr>\n",
              "    <tr>\n",
              "      <th>7300</th>\n",
              "      <td>1988-12-27</td>\n",
              "      <td>5764.0</td>\n",
              "    </tr>\n",
              "    <tr>\n",
              "      <th>7301</th>\n",
              "      <td>1988-12-28</td>\n",
              "      <td>5923.5</td>\n",
              "    </tr>\n",
              "    <tr>\n",
              "      <th>7302</th>\n",
              "      <td>1988-12-29</td>\n",
              "      <td>5852.0</td>\n",
              "    </tr>\n",
              "    <tr>\n",
              "      <th>7303</th>\n",
              "      <td>1988-12-30</td>\n",
              "      <td>5918.5</td>\n",
              "    </tr>\n",
              "    <tr>\n",
              "      <th>7304</th>\n",
              "      <td>1988-12-31</td>\n",
              "      <td>4566.5</td>\n",
              "    </tr>\n",
              "  </tbody>\n",
              "</table>\n",
              "<p>7305 rows × 2 columns</p>\n",
              "</div>\n",
              "      <button class=\"colab-df-convert\" onclick=\"convertToInteractive('df-b92c11ce-f4de-4373-960c-bf39a0643322')\"\n",
              "              title=\"Convert this dataframe to an interactive table.\"\n",
              "              style=\"display:none;\">\n",
              "        \n",
              "  <svg xmlns=\"http://www.w3.org/2000/svg\" height=\"24px\"viewBox=\"0 0 24 24\"\n",
              "       width=\"24px\">\n",
              "    <path d=\"M0 0h24v24H0V0z\" fill=\"none\"/>\n",
              "    <path d=\"M18.56 5.44l.94 2.06.94-2.06 2.06-.94-2.06-.94-.94-2.06-.94 2.06-2.06.94zm-11 1L8.5 8.5l.94-2.06 2.06-.94-2.06-.94L8.5 2.5l-.94 2.06-2.06.94zm10 10l.94 2.06.94-2.06 2.06-.94-2.06-.94-.94-2.06-.94 2.06-2.06.94z\"/><path d=\"M17.41 7.96l-1.37-1.37c-.4-.4-.92-.59-1.43-.59-.52 0-1.04.2-1.43.59L10.3 9.45l-7.72 7.72c-.78.78-.78 2.05 0 2.83L4 21.41c.39.39.9.59 1.41.59.51 0 1.02-.2 1.41-.59l7.78-7.78 2.81-2.81c.8-.78.8-2.07 0-2.86zM5.41 20L4 18.59l7.72-7.72 1.47 1.35L5.41 20z\"/>\n",
              "  </svg>\n",
              "      </button>\n",
              "      \n",
              "  <style>\n",
              "    .colab-df-container {\n",
              "      display:flex;\n",
              "      flex-wrap:wrap;\n",
              "      gap: 12px;\n",
              "    }\n",
              "\n",
              "    .colab-df-convert {\n",
              "      background-color: #E8F0FE;\n",
              "      border: none;\n",
              "      border-radius: 50%;\n",
              "      cursor: pointer;\n",
              "      display: none;\n",
              "      fill: #1967D2;\n",
              "      height: 32px;\n",
              "      padding: 0 0 0 0;\n",
              "      width: 32px;\n",
              "    }\n",
              "\n",
              "    .colab-df-convert:hover {\n",
              "      background-color: #E2EBFA;\n",
              "      box-shadow: 0px 1px 2px rgba(60, 64, 67, 0.3), 0px 1px 3px 1px rgba(60, 64, 67, 0.15);\n",
              "      fill: #174EA6;\n",
              "    }\n",
              "\n",
              "    [theme=dark] .colab-df-convert {\n",
              "      background-color: #3B4455;\n",
              "      fill: #D2E3FC;\n",
              "    }\n",
              "\n",
              "    [theme=dark] .colab-df-convert:hover {\n",
              "      background-color: #434B5C;\n",
              "      box-shadow: 0px 1px 3px 1px rgba(0, 0, 0, 0.15);\n",
              "      filter: drop-shadow(0px 1px 2px rgba(0, 0, 0, 0.3));\n",
              "      fill: #FFFFFF;\n",
              "    }\n",
              "  </style>\n",
              "\n",
              "      <script>\n",
              "        const buttonEl =\n",
              "          document.querySelector('#df-b92c11ce-f4de-4373-960c-bf39a0643322 button.colab-df-convert');\n",
              "        buttonEl.style.display =\n",
              "          google.colab.kernel.accessAllowed ? 'block' : 'none';\n",
              "\n",
              "        async function convertToInteractive(key) {\n",
              "          const element = document.querySelector('#df-b92c11ce-f4de-4373-960c-bf39a0643322');\n",
              "          const dataTable =\n",
              "            await google.colab.kernel.invokeFunction('convertToInteractive',\n",
              "                                                     [key], {});\n",
              "          if (!dataTable) return;\n",
              "\n",
              "          const docLinkHtml = 'Like what you see? Visit the ' +\n",
              "            '<a target=\"_blank\" href=https://colab.research.google.com/notebooks/data_table.ipynb>data table notebook</a>'\n",
              "            + ' to learn more about interactive tables.';\n",
              "          element.innerHTML = '';\n",
              "          dataTable['output_type'] = 'display_data';\n",
              "          await google.colab.output.renderOutput(dataTable, element);\n",
              "          const docLink = document.createElement('div');\n",
              "          docLink.innerHTML = docLinkHtml;\n",
              "          element.appendChild(docLink);\n",
              "        }\n",
              "      </script>\n",
              "    </div>\n",
              "  </div>\n",
              "  "
            ]
          },
          "metadata": {},
          "execution_count": 6
        }
      ]
    },
    {
      "cell_type": "code",
      "source": [
        "df_birth_freq = df_birth.groupby('date').mean()['births'].reset_index().rename(columns={'births':'avg_birth_rate'})\n"
      ],
      "metadata": {
        "id": "bxOserCAzc7U"
      },
      "execution_count": 8,
      "outputs": []
    },
    {
      "cell_type": "code",
      "source": [
        "fig, ax = plt.subplots(figsize=(16, 6))\n",
        "style = dict(size=10, color='gray')\n",
        "plt.plot(df_birth_freq['date'], df_birth_freq['avg_birth_rate'])"
      ],
      "metadata": {
        "colab": {
          "base_uri": "https://localhost:8080/",
          "height": 391
        },
        "id": "oawWIgZIzBSD",
        "outputId": "62fd8342-4580-4fe8-b1ab-f5ecb66c9a9d"
      },
      "execution_count": 9,
      "outputs": [
        {
          "output_type": "execute_result",
          "data": {
            "text/plain": [
              "[<matplotlib.lines.Line2D at 0x7f29cdc62810>]"
            ]
          },
          "metadata": {},
          "execution_count": 9
        },
        {
          "output_type": "display_data",
          "data": {
            "text/plain": [
              "<Figure size 1152x432 with 1 Axes>"
            ],
            "image/png": "[encoded data removed]"
          },
          "metadata": {
            "needs_background": "light"
          }
        }
      ]
    },
    {
      "cell_type": "code",
      "source": [
        ""
      ],
      "metadata": {
        "id": "kL6eFgMFzbET"
      },
      "execution_count": null,
      "outputs": []
    },
    {
      "cell_type": "markdown",
      "metadata": {
        "id": "Oz54OzdHwbbv"
      },
      "source": [
        "<span style='background:yellow'>**Question 2 (100 pt).**</span> Write a python program to evaluate the text classification performance using accuracy, precision, recall, and f1 score. \n",
        "\n",
        "Accuracy = (TP + TN) / (TP+ TN+ FP+ FN)\n",
        "\n",
        "Recall = (TP) / (TP+FN)\n",
        "\n",
        "Precision = (TP) / (TP+FP)\n",
        "\n",
        "F1 Score = (2*Precision*Recall) / (Precision + Recall)\n",
        "\n",
        "Here is the confusion matrix of a text classfication task (six categories) on the testing data. \n",
        "\n",
        "![SciBERT_cm.png](attachment:SciBERT_cm.png)"
      ]
    },
    {
      "cell_type": "code",
      "execution_count": 90,
      "metadata": {
        "colab": {
          "base_uri": "https://localhost:8080/"
        },
        "id": "J1jj0euewbbv",
        "outputId": "bde790d4-70a3-4682-ef80-36ad01b6dfd1"
      },
      "outputs": [
        {
          "output_type": "stream",
          "name": "stdout",
          "text": [
            "F1 Score for category 0 = 0.626746506986028\n",
            "Recall for category 0 = 0.585820895522388\n",
            "Precision for category 0 = 0.6738197424892703\n",
            "Accuracy for category 0 = 0.8139303482587065\n",
            "\n",
            "\n",
            "F1 Score for category 1 = 0.583011583011583\n",
            "Recall for category 1 = 0.606425702811245\n",
            "Precision for category 1 = 0.5613382899628253\n",
            "Accuracy for category 1 = 0.7850746268656716\n",
            "\n",
            "\n",
            "F1 Score for category 2 = 0.598669623059867\n",
            "Recall for category 2 = 0.6490384615384616\n",
            "Precision for category 2 = 0.5555555555555556\n",
            "Accuracy for category 2 = 0.8199004975124378\n",
            "\n",
            "\n",
            "F1 Score for category 3 = 0.5384615384615384\n",
            "Recall for category 3 = 0.5645161290322581\n",
            "Precision for category 3 = 0.5147058823529411\n",
            "Accuracy for category 3 = 0.8805970149253731\n",
            "\n",
            "\n",
            "F1 Score for category 4 = 0.5863874345549738\n",
            "Recall for category 4 = 0.5333333333333333\n",
            "Precision for category 4 = 0.6511627906976745\n",
            "Accuracy for category 4 = 0.9213930348258706\n",
            "\n",
            "\n",
            "F1 Score for category 5 = 0.3595505617977528\n",
            "Recall for category 5 = 0.3137254901960784\n",
            "Precision for category 5 = 0.42105263157894735\n",
            "Accuracy for category 5 = 0.9432835820895522\n",
            "\n",
            "\n"
          ]
        }
      ],
      "source": [
        "#### You answer here\n",
        "\n",
        "cm= [[157,46,25,22,15,3],\n",
        "     [28,151,45,18,1,6],\n",
        "     [11,38,135,14,3,7],\n",
        "     [11,15,18,70,6,4],\n",
        "     [14,12,14,7,56,2],\n",
        "     [12,7,6,5,5,16]]\n",
        "     \n",
        "total = sum(sum(cm,[])) \n",
        "\n",
        "for i in range(0,6):\n",
        "  TP= cm[i][i]\n",
        "  FP= cm[0][i]+ cm[1][i]+ cm[2][i]+  cm[3][i]+cm[4][i]+ cm[5][i] -  cm[i][i]\n",
        "  FN=cm[i][0]+ cm[i][1]+ cm[i][2]+  cm[i][3]+cm[i][4]+ cm[i][5] -  cm[i][i]\n",
        "  TN= total-TP-FN-FP\n",
        "\n",
        "  Accuracy= (TP + TN) / (TP+ TN+ FP+ FN)\n",
        "  Recall= (TP) / (TP+FN)\n",
        "  Precision= (TP) / (TP+FP)\n",
        "  f1Score = (2*Precision*Recall) / (Precision + Recall)\n",
        "\n",
        "  print(f\"F1 Score for category {i} = {f1Score}\")\n",
        "  print(f\"Recall for category {i} = {Recall}\")\n",
        "  print(f\"Precision for category {i} = {Precision}\")\n",
        "  print(f\"Accuracy for category {i} = {Accuracy}\")\n",
        "  print(\"\\n\")\n",
        "\n",
        "\n"
      ]
    },
    {
      "cell_type": "code",
      "source": [
        ""
      ],
      "metadata": {
        "id": "ojRyhwTKzAYC"
      },
      "execution_count": null,
      "outputs": []
    },
    {
      "cell_type": "markdown",
      "metadata": {
        "id": "mhnRo21xwbbw"
      },
      "source": [
        "<span style='background:yellow'>**Question 3 (200 pt).**</span> \n",
        "\n",
        "Part A: Given Inetd dataset, an intrusion detection dataset that contains 2 columns. The first column represents a process ID number (PID) and the second column represents a system call. The goal is to extract the entire system call sequence by its PID, then tokenize and parse each sequence into 25-grams. After this, we’ll split the data into training and testing sets. Next, we ensure data quality in the training dataset by removing duplicate sequences within each class and overlapped sequences between both classes. To ensure a fair evaluation, we also clean the testing set by repeating the previous step. You will implement a Decision Tree model to train and test on the training set and testing set that we just clean. \n",
        "\n",
        "\n",
        "Part B: As the data type is sequential, we want to know how similar the sequences from both classes are and visualize how the similarity scores vary in different sequence lengths. Compute a cosine similarity score of 100 random pairs from both classes and get a median cosine similarity. Repeat this step in different sequence lengths (5, 10, 15, and 20). Plot a line chart to visualize how the median cosine similarities vary through sequence lengths of 5 to 25. \n",
        "\n",
        "You can download the datasets from github: https://github.com/unt-iialab/info5502-spring2022/tree/main/finalexam/q4\n",
        "\n",
        "\n",
        "Step by step instructions and questions:\n",
        "\n",
        "(1)(30 points) Attached are the Normal and Intrusion data folders. Read in the data and store them in two separate dataframes. Combine the system calls (the second column) from the same PID (the first column) into a sequence or a string. \n",
        "\n",
        "(2)(30 points) Parse an entire sequence into smaller sequences of size 25. (Hint: Use word_tokenize and ngrams from nltk library to parse).\n",
        "\n",
        "(3)(30 points) Add labels to the data, and partition the labeled data into training data and testing data with a ratio of 70/30.\n",
        "\n",
        "(4)(30 points) As the dataset has a lot of duplicate sequences, make sure that the testing data only contain unique sequences and that these sequences do not exist in the training data. Condense training data and testing data into two sets. Take the difference between the testing set and training set to remove the overlapped sequences from the testing data. \n",
        "\n",
        "(5)(30 points) The sequences from each class can be repetitive, and some of these sequences may have different labels. Therefore, we need to remove the duplicate sequences within each class and the overlapped sequences from the Intrusion class. Start out by separating the Normal class and Intrusion class in both training and testing data. Use the same concept in Question 4 to remove duplicate sequences and overlapped sequences from the training data.\n",
        "\n",
        "\n",
        "(6)(50 points) Bootstrap the training data to get the same number of sequences from each class. Train and evaluate a Decision Tree model using the training data and testing data that we just clean. How is the performance?\n"
      ]
    },
    {
      "cell_type": "code",
      "execution_count": 91,
      "metadata": {
        "id": "ujRKYGr2wbbx"
      },
      "outputs": [],
      "source": [
        "#### You code here\n",
        "\n",
        "import numpy as np\n",
        "import pandas as pd\n",
        "import matplotlib.pyplot as plt\n",
        "import seaborn as sns\n",
        "from nltk.util import ngrams\n",
        "from sklearn.tree import DecisionTreeClassifier\n",
        "from sklearn import preprocessing\n",
        "from sklearn.metrics import classification_report\n",
        "from sklearn.model_selection import train_test_split\n",
        "from sklearn.metrics.pairwise import cosine_similarity\n",
        "import statistics\n",
        "import re\n"
      ]
    },
    {
      "cell_type": "code",
      "source": [
        "df_intrusion = pd.read_csv(\"https://raw.githubusercontent.com/unt-iialab/info5502-spring2022/main/finalexam/q4/inetd-intrusion.int\", sep = \" \", header = None)\n",
        "df_intrusion_normal = pd.read_csv(\"https://raw.githubusercontent.com/unt-iialab/info5502-spring2022/main/finalexam/q4/inetd-normal.int\", sep = \" \", header = None)\n",
        "df_intrusion.columns = ['pid', 'system_calls']\n",
        "df_intrusion_normal.columns = ['pid', 'system_calls']\n",
        "print(df_intrusion.head(2))\n",
        "print()\n",
        "print(df_intrusion_normal.head(2))"
      ],
      "metadata": {
        "colab": {
          "base_uri": "https://localhost:8080/"
        },
        "id": "3qMAHIEP3fgD",
        "outputId": "59566a67-2b08-42cd-af68-259aee106519"
      },
      "execution_count": 33,
      "outputs": [
        {
          "output_type": "stream",
          "name": "stdout",
          "text": [
            "   pid  system_calls\n",
            "0  167            90\n",
            "1  167           125\n",
            "\n",
            "   pid  system_calls\n",
            "0  167            90\n",
            "1  167           125\n"
          ]
        }
      ]
    },
    {
      "cell_type": "code",
      "source": [
        "intrusion_dict = {}\n",
        "n_dict = {}\n",
        "for pid in list(set(df_intrusion['pid'].values)):\n",
        "    intrusion_dict[pid] = \" \".join(str(value) for value in list(df_intrusion[df_intrusion['pid'] == pid]['system_calls'].values))\n",
        "\n",
        "for pid in list(set(df_intrusion_normal['pid'].values)):\n",
        "    n_dict[pid] = \" \".join(str(value) for value in list(df_intrusion_normal[df_intrusion_normal['pid'] == pid]['system_calls'].values))\n",
        "\n",
        "intrusion_dict[167]"
      ],
      "metadata": {
        "colab": {
          "base_uri": "https://localhost:8080/",
          "height": 35
        },
        "id": "zVjaXOi333AR",
        "outputId": "61785103-d62e-41af-ef1e-0aa0517e5504"
      },
      "execution_count": 34,
      "outputs": [
        {
          "output_type": "execute_result",
          "data": {
            "text/plain": [
              "'90 125 125 106 5 90 6 5 3 90 90 90 90 6 125 91 125 125 125 136 49 24 47 50 45 45 5 106 106 106 106 106 2 1'"
            ],
            "application/vnd.google.colaboratory.intrinsic+json": {
              "type": "string"
            }
          },
          "metadata": {},
          "execution_count": 34
        }
      ]
    },
    {
      "cell_type": "code",
      "source": [
        "intrusion_list = []\n",
        "n_list = []\n",
        "\n",
        "for key in intrusion_dict.keys():\n",
        "    a = intrusion_dict[key]\n",
        "    tokens = [token for token in a.split(\" \") if token != \"\"]\n",
        "    \n",
        "    for ele in list(ngrams(tokens, 25)):\n",
        "        intrusion_list.append(ele)\n",
        "        \n",
        "for key in n_dict.keys():\n",
        "    a = n_dict[key]\n",
        "    tokens = [token for token in a.split(\" \") if token != \"\"]\n",
        "    \n",
        "    for ele in list(ngrams(tokens, 25)):\n",
        "        n_list.append(ele) \n",
        "\n",
        "print(f\"Length of the instruction list : {len(intrusion_list)}\")\n",
        "print(f\"Length of normal list : {len(n_list)}\")"
      ],
      "metadata": {
        "colab": {
          "base_uri": "https://localhost:8080/"
        },
        "id": "FETkA6ck4iaO",
        "outputId": "011bcb1e-570e-4297-ac66-fbbb1ac41ac8"
      },
      "execution_count": 35,
      "outputs": [
        {
          "output_type": "stream",
          "name": "stdout",
          "text": [
            "Length of the instruction list : 7627\n",
            "Length of normal list : 469\n"
          ]
        }
      ]
    },
    {
      "cell_type": "code",
      "source": [
        "intrusion_df = pd.DataFrame(intrusion_list)\n",
        "df_normal = pd.DataFrame(n_list)\n",
        "intrusion_df['class'] = 1\n",
        "df_normal['class'] = 0\n",
        "print(f\"shape of the intrusion dataframe : {intrusion_df.shape}\")\n",
        "print(f\"shape of the normal dataframe : {df_normal.shape}\")"
      ],
      "metadata": {
        "colab": {
          "base_uri": "https://localhost:8080/"
        },
        "id": "HWQu18Gx4mGB",
        "outputId": "6874dfd4-c19e-4fd5-f436-7e9c03832a1a"
      },
      "execution_count": 36,
      "outputs": [
        {
          "output_type": "stream",
          "name": "stdout",
          "text": [
            "shape of the intrusion dataframe : (7627, 26)\n",
            "shape of the normal dataframe : (469, 26)\n"
          ]
        }
      ]
    },
    {
      "cell_type": "code",
      "source": [
        "df_final = pd.DataFrame()\n",
        "df_final = df_final.append(intrusion_df)\n",
        "df_final = df_final.append(df_normal)\n",
        "print(df_final.shape)"
      ],
      "metadata": {
        "colab": {
          "base_uri": "https://localhost:8080/"
        },
        "id": "KtOz78eE4oa1",
        "outputId": "7bac28fb-2dbe-4f29-8504-8dfafff7acde"
      },
      "execution_count": 37,
      "outputs": [
        {
          "output_type": "stream",
          "name": "stdout",
          "text": [
            "(8096, 26)\n"
          ]
        }
      ]
    },
    {
      "cell_type": "code",
      "source": [
        "df_final = df_final.drop_duplicates(subset = df_final.columns[:-1], keep = 'last')\n",
        "df_final.shape"
      ],
      "metadata": {
        "colab": {
          "base_uri": "https://localhost:8080/"
        },
        "id": "rkQATmhh4qW4",
        "outputId": "65e5e801-64fb-430c-e616-15cb4563a37f"
      },
      "execution_count": 38,
      "outputs": [
        {
          "output_type": "execute_result",
          "data": {
            "text/plain": [
              "(333, 26)"
            ]
          },
          "metadata": {},
          "execution_count": 38
        }
      ]
    },
    {
      "cell_type": "code",
      "source": [
        "x = df_final.drop(\"class\", axis = 1)\n",
        "y = df_final['class']\n",
        "x_train, x_valid, y_train, y_valid = train_test_split(x, y, test_size = 0.2, random_state = 123)\n",
        "dtclassifier = DecisionTreeClassifier(max_depth = 10)\n",
        "dtclassifier.fit(x_train, y_train)\n",
        "pred = dtclassifier.predict(x_valid)\n",
        "print(classification_report(y_valid,pred))"
      ],
      "metadata": {
        "colab": {
          "base_uri": "https://localhost:8080/"
        },
        "id": "2VRQboKv4r77",
        "outputId": "22248b04-6e53-4523-c651-223c279766d5"
      },
      "execution_count": 40,
      "outputs": [
        {
          "output_type": "stream",
          "name": "stdout",
          "text": [
            "              precision    recall  f1-score   support\n",
            "\n",
            "           0       0.82      0.88      0.85        32\n",
            "           1       0.88      0.83      0.85        35\n",
            "\n",
            "    accuracy                           0.85        67\n",
            "   macro avg       0.85      0.85      0.85        67\n",
            "weighted avg       0.85      0.85      0.85        67\n",
            "\n"
          ]
        }
      ]
    },
    {
      "cell_type": "code",
      "source": [
        "cosine_similar_ngram = {}\n",
        "\n",
        "for ngram in range(5, 26, 5):\n",
        "\n",
        "    df_intrusion = pd.read_csv(\"https://raw.githubusercontent.com/unt-iialab/info5502-spring2022/main/finalexam/q4/inetd-intrusion.int\", sep = \" \", header = None)\n",
        "    df_normal = pd.read_csv(\"https://raw.githubusercontent.com/unt-iialab/info5502-spring2022/main/finalexam/q4/inetd-normal.int\", sep = \" \", header = None)\n",
        "\n",
        "    df_intrusion.columns = ['pid', 'system_calls']\n",
        "    df_normal.columns = ['pid', 'system_calls']\n",
        "\n",
        "    intrusion_dict = {}\n",
        "    normal_dict = {}\n",
        "    \n",
        "    for pid in list(set(df_intrusion['pid'].values)):\n",
        "        intrusion_dict[pid] = \" \".join(str(value) for value in list(df_intrusion[df_intrusion['pid'] == pid]['system_calls'].values))\n",
        "\n",
        "    for pid in list(set(df_normal['pid'].values)):\n",
        "        normal_dict[pid] = \" \".join(str(value) for value in list(df_normal[df_normal['pid'] == pid]['system_calls'].values))\n",
        "\n",
        "    intrusion_list = []\n",
        "    normal_list = []\n",
        "    for key in intrusion_dict.keys():\n",
        "        s = intrusion_dict[key]\n",
        "        tokens = [token for token in s.split(\" \") if token != \"\"]\n",
        "\n",
        "        for ele in list(ngrams(tokens, ngram)):\n",
        "            intrusion_list.append(ele)\n",
        "\n",
        "    for key in normal_dict.keys():\n",
        "        s = normal_dict[key]\n",
        "        tokens = [token for token in s.split(\" \") if token != \"\"]\n",
        "\n",
        "        for ele in list(ngrams(tokens, ngram)):\n",
        "            normal_list.append(ele)\n",
        "\n",
        "    intrusion_df = pd.DataFrame(intrusion_list)\n",
        "    normal_df = pd.DataFrame(normal_list)\n",
        "\n",
        "    intrusion_df['class'] = 1\n",
        "    normal_df['class'] = 0\n",
        "\n",
        "    combined_df = pd.DataFrame()\n",
        "\n",
        "    combined_df = combined_df.append(intrusion_df)\n",
        "    combined_df = combined_df.append(normal_df)\n",
        "\n",
        "\n",
        "    combined_df = combined_df.drop_duplicates(subset = combined_df.columns[:-1], keep = 'last')\n",
        "    \n",
        "\n",
        "    from sklearn.metrics.pairwise import cosine_similarity\n",
        "    import statistics\n",
        "\n",
        "    similarities_list = []\n",
        "    for i in range(0, 100):\n",
        "        list1 = list(combined_df[combined_df['class'] == 0].sample(n = 1).iloc[0, :].values)\n",
        "        list2 = list(combined_df[combined_df['class'] == 1].sample(n = 1).iloc[0, :].values)\n",
        "        try:\n",
        "            similarities_list.append(cosine_similarity([list1], [list2]))\n",
        "        except Exception as e:\n",
        "            print(e)\n",
        "            print(list1, list2)\n",
        "\n",
        "    print(ngram, statistics.median(similarities_list)[0][0])\n",
        "    print()\n",
        "    cosine_similar_ngram[ngram] = statistics.median(similarities_list)[0][0]"
      ],
      "metadata": {
        "colab": {
          "base_uri": "https://localhost:8080/"
        },
        "id": "SJYkFuO05gfK",
        "outputId": "129f42db-d1c2-4796-fccb-2d235ab10b8e"
      },
      "execution_count": 41,
      "outputs": [
        {
          "output_type": "stream",
          "name": "stdout",
          "text": [
            "5 0.7814037589655436\n",
            "\n",
            "10 0.7273869144257938\n",
            "\n",
            "15 0.7335418744526108\n",
            "\n",
            "20 0.7213290423014715\n",
            "\n",
            "25 0.7280859184106097\n",
            "\n"
          ]
        }
      ]
    },
    {
      "cell_type": "code",
      "source": [
        "cosine_similar_ngram_df = pd.DataFrame({\"Ngram\":list(cosine_similar_ngram.keys()), \"Similarity_scores\": list(cosine_similar_ngram.values())})\n",
        "plt.rcParams['figure.figsize'] = [14, 7]\n",
        "sns.lineplot(x = \"Ngram\", y = \"Similarity_scores\", data = cosine_similar_ngram_df)\n",
        "plt.title(\"Cosine similarity scores\")\n",
        "plt.xlabel(\"Ngram\")\n",
        "plt.ylabel(\"Cosine similarity scores\")\n",
        "plt.show()"
      ],
      "metadata": {
        "colab": {
          "base_uri": "https://localhost:8080/",
          "height": 458
        },
        "id": "zeAr_WoR5kJb",
        "outputId": "43a7b918-737c-4de0-8dc1-352d49bff2f8"
      },
      "execution_count": 42,
      "outputs": [
        {
          "output_type": "display_data",
          "data": {
            "text/plain": [
              "<Figure size 1008x504 with 1 Axes>"
            ],
            "image/png": "[encoded data removed]"
          },
          "metadata": {
            "needs_background": "light"
          }
        }
      ]
    },
    {
      "cell_type": "markdown",
      "metadata": {
        "id": "7lkrvF8ewbbx"
      },
      "source": [
        "<span style='background:yellow'>**Question 4 (100 pt).**</span> In the world of business, the importance of the customers’ reviews for any product is not ignorable. The impact of customers’ reviews on customer’s decision making is significant. Therefore, businesses try to increase this impact by increasing the ratio of the positive reviews to negative reviews. One effective way to increase the ratio is offering the incentives such as small gifts or free next services to customers to post the reviews for item they purchase or used. However, it is not always the case, and customer may post their reviews without receiving or accepting the incentives. So, the reviews could be in either incentivized or non-incentivized category.\n",
        "\n",
        "\n",
        "Considering the importance of reviews, in this question you need to compare these two categories of reviews. One method to compare the effectiveness of two categories is conducting the A/B testing.\n",
        "\n",
        "\n",
        "The Software_Reviews dataset is collected from software review products, and it is combination of several small datasets. Find the dataset as an attachment on the left side of the page.\n",
        "\n",
        "\n",
        "You can downlaod the dataset from github: https://github.com/unt-iialab/info5502-spring2022/blob/main/finalexam/Software_Reviews_csv_files_S.csv\n",
        "\n",
        "(1)(50 points) Clean the dataset before you use (You need to know this dataset is combinations of the several CSV files with title rows. So, there are extra title rows in the middle of the file, which they need to be removed.)\n",
        "\n",
        "\n",
        "(2)(50 points) Apply an A/B test\": consider the “incentivized” column as main column for A & B groups.\n",
        "\n",
        "a. The “incentivized” column includes ‘NominalGift’, ‘VendorReferredIncentivized’, ‘NoIncentive’, ‘NonNominalGift’, ‘VendorReferred’, ‘None’\n",
        "\n",
        "b. Group A (Incentive): ‘NominalGift’, and ‘VendorReferredIncentivized’\n",
        "\n",
        "c. Group B (NoIncentive): ‘NoIncentive’, ‘NonNominalGift’, ‘VendorReferred’\n",
        "\n",
        "d. Make the decision if ‘None’ includes in either Group A or B or remove that.\n",
        "\n",
        "e. The “OverAllRating” is another column that is used to compare groups A and B.\n",
        "\n",
        "Which one A or B group has higher “OverAllRating”?"
      ]
    },
    {
      "cell_type": "code",
      "execution_count": 78,
      "metadata": {
        "id": "5mNG_QEwwbby"
      },
      "outputs": [],
      "source": [
        "#### You code and your answer here here\n",
        "\n",
        "data_reviews = pd.read_csv(\"https://raw.githubusercontent.com/unt-iialab/info5502-spring2022/main/finalexam/Software_Reviews_csv_files_S.csv\")\n",
        "\n",
        "import numpy as np\n",
        "from scipy.stats import norm\n",
        "import matplotlib.pyplot as plt\n",
        "import math as m\n",
        "\n",
        "\n"
      ]
    },
    {
      "cell_type": "code",
      "source": [
        "data_reviews = data_reviews[data_reviews['id'] != 'id']\n",
        "data_reviews.shape"
      ],
      "metadata": {
        "colab": {
          "base_uri": "https://localhost:8080/"
        },
        "id": "WXXPb03U5-cV",
        "outputId": "c3d5f413-17f0-47da-ab77-a6b2f3116028"
      },
      "execution_count": 79,
      "outputs": [
        {
          "output_type": "execute_result",
          "data": {
            "text/plain": [
              "(2988, 28)"
            ]
          },
          "metadata": {},
          "execution_count": 79
        }
      ]
    },
    {
      "cell_type": "code",
      "source": [
        "group_one = data_reviews[(data_reviews['incentivized'] == \"NominalGift\") | (data_reviews['incentivized'] == \"VendorReferredIncentivized\")]['OverAllRating']\n",
        "group_two = data_reviews[(data_reviews['incentivized'] == \"NoIncentive\") | (data_reviews['incentivized'] == \"NonNominalGift\") | (data_reviews['incentivized'] == \"VendorReferred\")]['OverAllRating']#.shape\n",
        "\n",
        "K_con = group_one.shape[0]\n",
        "k_exp = group_two.shape[0]\n",
        "\n",
        "alpha = 0.05\n",
        "\n",
        "mu_con = np.mean(group_one)\n",
        "mu_exp = np.mean(group_two)\n",
        "\n",
        "y1 = group_one.astype('float64')\n",
        "variance_con = np.var(y1)\n",
        "\n",
        "y2 = group_two.astype('float64')\n",
        "variance_exp = np.var(y2)\n",
        "\n",
        "# Pooled Variance\n",
        "pooled_variance = np.sqrt(variance_con/K_con + variance_exp/k_exp)\n",
        "\n",
        "T = (mu_con-mu_exp)/np.sqrt(variance_con/K_con + variance_exp/k_exp)\n",
        "\n",
        "p_value = norm.sf(T)*2\n",
        "\n",
        "# Z-critical value\n",
        "Z_crit  = norm.ppf(1-alpha/2)\n",
        "\n",
        "# Margin of error\n",
        "m = Z_crit*pooled_variance\n",
        "\n",
        "# Confidence Interval\n",
        "CI = [(mu_con - mu_exp) - m, (mu_con - mu_exp) + m]"
      ],
      "metadata": {
        "colab": {
          "base_uri": "https://localhost:8080/"
        },
        "id": "F-C1yvv66J3p",
        "outputId": "b66811f9-e75b-466b-960e-8e8181187aae"
      },
      "execution_count": 86,
      "outputs": [
        {
          "output_type": "stream",
          "name": "stderr",
          "text": [
            "/usr/local/lib/python3.7/dist-packages/ipykernel_launcher.py:21: RuntimeWarning: invalid value encountered in double_scalars\n",
            "/usr/local/lib/python3.7/dist-packages/ipykernel_launcher.py:32: RuntimeWarning: invalid value encountered in double_scalars\n"
          ]
        }
      ]
    },
    {
      "cell_type": "code",
      "source": [
        "print(\"Test Statistics: \", T)\n",
        "print(\"Z-critical value: \", Z_crit)\n",
        "print(\"P_value: \", p_value)\n",
        "print(\"Confidence Interval of 2 sample Z-test for proportions: \", np.round(CI,2))"
      ],
      "metadata": {
        "colab": {
          "base_uri": "https://localhost:8080/"
        },
        "id": "GoObOl2V8nR1",
        "outputId": "a13198fb-aed3-4fb6-96af-cd8ff50162c2"
      },
      "execution_count": 85,
      "outputs": [
        {
          "output_type": "stream",
          "name": "stdout",
          "text": [
            "Test Statistics:  nan\n",
            "Z-critical value:  1.959963984540054\n",
            "P_value:  nan\n",
            "Confidence Interval of 2 sample Z-test for proportions:  [nan nan]\n"
          ]
        }
      ]
    },
    {
      "cell_type": "code",
      "source": [
        "import matplotlib.pyplot as plt\n",
        "z = np.arange(-3,3,  0.1)\n",
        "plt.plot(z, norm.pdf(z), label = 'Standard Normal Distribution',color = 'purple',linewidth = 2.5)\n",
        "plt.fill_between(z[z>Z_crit], norm.pdf(z[z>Z_crit]), label = 'Rejection Region',color ='y' )\n",
        "plt.fill_between(z[z<(-1)*Z_crit], norm.pdf(z[z<(-1)*Z_crit]), color ='y' )\n",
        "plt.title(\"Two Sample Z-test rejection region\")\n",
        "plt.legend()\n",
        "plt.show()"
      ],
      "metadata": {
        "colab": {
          "base_uri": "https://localhost:8080/",
          "height": 444
        },
        "id": "WGoMNDOk8sUh",
        "outputId": "c37f48fe-af7d-4a42-e9ad-36e3ecd579d8"
      },
      "execution_count": 87,
      "outputs": [
        {
          "output_type": "display_data",
          "data": {
            "text/plain": [
              "<Figure size 1008x504 with 1 Axes>"
            ],
            "image/png": "[encoded data removed]"
          },
          "metadata": {
            "needs_background": "light"
          }
        }
      ]
    }
  ],
  "metadata": {
    "kernelspec": {
      "display_name": "Python 3 (ipykernel)",
      "language": "python",
      "name": "python3"
    },
    "language_info": {
      "codemirror_mode": {
        "name": "ipython",
        "version": 3
      },
      "file_extension": ".py",
      "mimetype": "text/x-python",
      "name": "python",
      "nbconvert_exporter": "python",
      "pygments_lexer": "ipython3",
      "version": "3.9.7"
    },
    "colab": {
      "name": "INFO 5502-Final Exam-Summer 2022.ipynb",
      "provenance": [],
      "collapsed_sections": [],
      "include_colab_link": true
    }
  },
  "nbformat": 4,
  "nbformat_minor": 0
}