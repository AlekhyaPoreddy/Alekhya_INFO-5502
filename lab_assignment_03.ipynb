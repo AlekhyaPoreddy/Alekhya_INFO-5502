{
  "cells": [
    {
      "cell_type": "markdown",
      "metadata": {
        "id": "view-in-github",
        "colab_type": "text"
      },
      "source": [
        "<a href=\"https://colab.research.google.com/github/AlekhyaPoreddy/Alekhya_INFO-5502/blob/main/lab_assignment_03.ipynb\" target=\"_parent\"><img src=\"https://colab.research.google.com/assets/colab-badge.svg\" alt=\"Open In Colab\"/></a>"
      ]
    },
    {
      "cell_type": "markdown",
      "metadata": {
        "id": "VJfL4HBIXMUr"
      },
      "source": [
        "## The third Lab-assignment (07/22/2022 11:59'AM' - 07/26/2022 11:59PM, 50 points in total)"
      ]
    },
    {
      "cell_type": "markdown",
      "metadata": {
        "id": "MHb60fgWXMUx"
      },
      "source": [
        "The purpose of this exercise is to understand users' information needs, then collect data from different sources for analysis."
      ]
    },
    {
      "cell_type": "markdown",
      "metadata": {
        "id": "jim74Kl0XMUy"
      },
      "source": [
        "Question 1 (10 points). Fomulate your domain problem: Describe an interesting research question (or practical question) you have in mind, what kind of data should be collected to answer the question(s)? How many data needed for the analysis? The detail steps for collecting and save the data. "
      ]
    },
    {
      "cell_type": "code",
      "execution_count": null,
      "metadata": {
        "id": "WNC4NjR5XMUz"
      },
      "outputs": [],
      "source": [
        "# Your answer here (no code for this question, write down your answer as detail as possible for the above questions):\n",
        "\n",
        "'''\n",
        "Please write you answer here:\n",
        "\n",
        "Domain problem:\n",
        "I would like to analyse the highest to lowest prices listed for bags on meesho.com. \n",
        "\n",
        "Research question:\n",
        "Get top 100 bags listed in the meesho.com from highest to lowest prices.\n",
        "\n",
        "Data required to answer the question:\n",
        "Discounted prices listed in meesho.com through web scraping for atleast 100 bags.\n",
        "\n",
        "The prices can be obtained using below url:\n",
        "https://www.meesho.com/bags-ladies/pl/p7vbp?Sort[sort_by]=price&Sort[sort_order]=desc&page=\n",
        "\n",
        "Steps for data retrieval and storage:\n",
        "1) We will be using web scraping technique to scrape the data.\n",
        "2) We will be using beautifulSoup libraty to parse the meesho website html page.\n",
        "3) We open the provided meesho website page and query the html elements using the class attribute for the prices.\n",
        "3) We will iterate through the pages util we find the first 100 bag prices listed from high to low.\n",
        "4) Each price will be stored in priceList.\n",
        "5) The final list gives the required prices, those will be used for data cleaning and analsis further.\n",
        "\n",
        "\n",
        "'''"
      ]
    },
    {
      "cell_type": "markdown",
      "metadata": {
        "id": "0y3tvDbJXMU0"
      },
      "source": [
        "Question 2 (30 points). Collect your data to answer the research problem: Write python code to collect 1000 data samples you discussed above."
      ]
    },
    {
      "cell_type": "code",
      "execution_count": 17,
      "metadata": {
        "colab": {
          "base_uri": "https://localhost:8080/"
        },
        "id": "68QXTrLWXMU1",
        "outputId": "8d819fdc-598e-41cc-8ade-06b520b6eb6b"
      },
      "outputs": [
        {
          "output_type": "stream",
          "name": "stdout",
          "text": [
            "['₹10000 onwards', '₹9949', '₹9949', '₹9949', '₹9949', '₹9949', '₹9949', '₹9949', '₹9949', '₹9949', '₹9949', '₹9949', '₹9949', '₹9949', '₹9949', '₹9701', '₹9701', '₹9691', '₹8950', '₹8950', '₹8950', '₹8950', '₹8950', '₹8950', '₹8950', '₹8949', '₹8949', '₹8949', '₹8949', '₹8949', '₹8949', '₹8949', '₹8949', '₹8948', '₹8948', '₹8948', '₹8850', '₹8850', '₹8838', '₹8738', '₹8670', '₹8650', '₹8616', '₹8596', '₹8549', '₹8549', '₹8546', '₹8534', '₹8534', '₹8449', '₹8449', '₹8135', '₹8034', '₹8034', '₹8024', '₹7950', '₹7950', '₹7950', '₹7950', '₹7950', '₹7950', '₹7950', '₹7950', '₹7950', '₹7950', '₹7950', '₹7950', '₹7950', '₹7950', '₹7949', '₹7949', '₹7949', '₹7949', '₹7949', '₹7949', '₹7934', '₹7934', '₹7850', '₹7849', '₹7849', '₹7849', '₹7838', '₹7734', '₹7649', '₹7620', '₹7620', '₹7149', '₹7055', '₹7034', '₹7034', '₹7034', '₹7031', '₹7021', '₹7021', '₹6949', '₹6949', '₹6948', '₹6948', '₹6948', '₹6740', '₹6605', '₹6535', '₹6535', '₹6504', '₹6420', '₹6405', '₹6335', '₹6335', '₹6318', '₹6311', '₹6298', '₹6034', '₹6034', '₹6025', '₹5949', '₹5949', '₹5949', '₹5949', '₹5924', '₹5804', '₹5702', '₹5632', '₹5535', '₹5535', '₹5529', '₹5528', '₹5450', '₹5450', '₹5435', '₹5424', '₹5418', '₹5393', '₹5377', '₹5345', '₹5281', '₹5235', '₹5070', '₹5068', '₹5039', '₹5035', '₹5035', '₹5035', '₹5035', '₹5035', '₹5035', '₹5035', '₹5034', '₹5034', '₹5034', '₹5034', '₹5034', '₹5034', '₹5034', '₹5030', '₹5025', '₹5025', '₹5025', '₹5025', '₹5024', '₹5024', '₹4983', '₹4954', '₹4950', '₹4950', '₹4949', '₹4949', '₹4949', '₹4906', '₹4875', '₹4835', '₹4835', '₹4658', '₹4634', '₹4634', '₹4634', '₹4634', '₹4634', '₹4634', '₹4634', '₹4634', '₹4630', '₹4628', '₹4628', '₹4628', '₹4557', '₹4547', '₹4535', '₹4535', '₹4531', '₹4515', '₹4489', '₹4484', '₹4453', '₹4449', '₹4315', '₹4299', '₹4225', '₹4165', '₹4150', '₹4149', '₹4129', '₹4118', '₹4104', '₹4103', '₹4078', '₹4067', '₹4067', '₹4063', '₹4048', '₹4035', '₹4034', '₹4033', '₹4033', '₹4030', '₹4025', '₹4024', '₹4024', '₹4014', '₹3990', '₹3981', '₹3972', '₹3972', '₹3960', '₹3955', '₹3950', '₹3949', '₹3949', '₹3949', '₹3947', '₹3944', '₹3929', '₹3929', '₹3907', '₹3887', '₹3887', '₹3878', '₹3867', '₹3850', '₹3844', '₹3830', '₹3829', '₹3811', '₹3810', '₹3782', '₹3750', '₹3749', '₹3749', '₹3729', '₹3729', '₹3729', '₹3720', '₹3703', '₹3692', '₹3650', '₹3650', '₹3635', '₹3634', '₹3634', '₹3634', '₹3634', '₹3630', '₹3628', '₹3628', '₹3623', '₹3618', '₹3617', '₹3613', '₹3611', '₹3604', '₹3595', '₹3580', '₹3575', '₹3575', '₹3575', '₹3575', '₹3575', '₹3575', '₹3571', '₹3565', '₹3556']\n"
          ]
        }
      ],
      "source": [
        "# You code here (Please add comments in the code):\n",
        "\n",
        "from bs4 import BeautifulSoup\n",
        "import json\n",
        "import re\n",
        "import urllib\n",
        "from urllib.request import Request, urlopen\n",
        "from urllib.error import HTTPError\n",
        "\n",
        "count = 0\n",
        "priceList = []\n",
        "meeshoURL = \"https://www.meesho.com/bags-ladies/pl/p7vbp?Sort[sort_by]=price&Sort[sort_order]=desc&page={}\"\n",
        "for pg in range(1, 15):\n",
        "    # iterating through 15 pages to get atleast 100 bag prices\n",
        "    formattedLink = Request(meeshoURL.format(pg), headers={'User-Agent': 'Mozilla/5.0'})\n",
        "    pageurl = urlopen(formattedLink)\n",
        "\n",
        "    dataset1 = pageurl.read()\n",
        "    datasetsoup = BeautifulSoup(dataset1)\n",
        "\n",
        "    # find all elements from datasetsoup for the class attribute to get the prices.\n",
        "    for i in datasetsoup.find_all('h5', attrs = {'class':\"BBZyK\"}):\n",
        "     \n",
        "     # add each price item to the priceList\n",
        "      priceList.append(i.text)\n",
        "      # Increment the counter to stop the processing once we get first 100 bag prices\n",
        "      count = count + 1\n",
        "      if count == 100:\n",
        "          break\n",
        "    # stop the processing once the counter is more than 100      \n",
        "    if count == 101:\n",
        "        break\n",
        "\n",
        "print(priceList)\n",
        "\n",
        "\n",
        "\n",
        "\n"
      ]
    },
    {
      "cell_type": "markdown",
      "metadata": {
        "id": "XDfU8vHpXMU2"
      },
      "source": [
        "Question 3 (10 points). Understand the data quality: Search a second hand dataset (any dataset) from kaggle or other websites. Describe the data quality problem of the dataset and explain your strtegy to clean the data."
      ]
    },
    {
      "cell_type": "code",
      "execution_count": null,
      "metadata": {
        "id": "Bm180K9TXMU2"
      },
      "outputs": [],
      "source": [
        "# Your answer here (no code for this question, write down your answer as detail as possible for the above questions):\n",
        "'''\n",
        "\n",
        "Please write you answer here:\n",
        "Selected dataset : 120 years of Olympic history: athletes and results.csv from kaggle.com\n",
        "\n",
        "The data shown in the .csv has many missing values in the many of the columns, so the data cleaning and standaridization is neccessary here.\n",
        "If we look at the columns height and weight columns, for many players, these values are missing.There are many duplicate records exists for the same player.\n",
        "\n",
        "\n",
        "Strategies to clean the duplicates and fill the missing values:\n",
        "1) Using naive methods, list, sets or dictionaries.\n",
        "2) Apply sorting on name column to sorty by names.\n",
        "3) Once we find the duplicate rows, we can apply duplicate methods to remove them.\n",
        "4) Perform Lemmatization and stemming on the columns to group the items.\n",
        "5) We can credit the missing qualities utilizing implies, medians KNNs or much more refined models. We at times decide to exclude the entire column in the event that the NAs are not so quite a large number.\n",
        "\n",
        "\n",
        "\n",
        "\n",
        "\n",
        "\n",
        "'''"
      ]
    },
    {
      "cell_type": "code",
      "source": [
        ""
      ],
      "metadata": {
        "id": "sGzxeMKvd4Df"
      },
      "execution_count": null,
      "outputs": []
    }
  ],
  "metadata": {
    "kernelspec": {
      "display_name": "Python 3 (ipykernel)",
      "language": "python",
      "name": "python3"
    },
    "language_info": {
      "codemirror_mode": {
        "name": "ipython",
        "version": 3
      },
      "file_extension": ".py",
      "mimetype": "text/x-python",
      "name": "python",
      "nbconvert_exporter": "python",
      "pygments_lexer": "ipython3",
      "version": "3.9.12"
    },
    "vscode": {
      "interpreter": {
        "hash": "5c6a7f839effdddf35473dacbb9a8184e57ebbba5133cab03b12e4f28d4f0d0f"
      }
    },
    "colab": {
      "name": "lab_assignment_03.ipynb",
      "provenance": [],
      "collapsed_sections": [],
      "include_colab_link": true
    }
  },
  "nbformat": 4,
  "nbformat_minor": 0
}