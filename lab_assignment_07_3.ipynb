{
  "cells": [
    {
      "cell_type": "markdown",
      "metadata": {
        "id": "view-in-github",
        "colab_type": "text"
      },
      "source": [
        "<a href=\"https://colab.research.google.com/github/AlekhyaPoreddy/Alekhya_INFO-5502/blob/main/lab_assignment_07_3.ipynb\" target=\"_parent\"><img src=\"https://colab.research.google.com/assets/colab-badge.svg\" alt=\"Open In Colab\"/></a>"
      ]
    },
    {
      "cell_type": "markdown",
      "metadata": {
        "id": "NPswCW7k_4Kx"
      },
      "source": [
        "## The Seventh Lab-assignment (08/05/2022 11:59'AM' - 08/09/2022 11:59PM, 50 points in total)"
      ]
    },
    {
      "cell_type": "markdown",
      "metadata": {
        "id": "bkQ4tJ5L_4Ky"
      },
      "source": [
        "The purpose of this exercise is to understand how to conduct Sampling and Distributions. The data used in this lab assignment will contain salary data and other statistics for basketball players from the 2014-2015 NBA season. This data was collected from the following sports analytic sites: [Basketball Reference](http://www.basketball-reference.com) and [Spotrac](http://www.spotrac.com). The dataset of this assignment can be downloaded from github: https://github.com/suthapalliuday/INFO5502-Summer2022/tree/main/datasets/lab-assignment-7\n",
        "\n",
        "First, set up the tests and imports by running the cell below."
      ]
    },
    {
      "cell_type": "code",
      "source": [
        "from google.colab import drive\n",
        "drive.mount('/content/drive')"
      ],
      "metadata": {
        "id": "WVitBFaOILrC"
      },
      "execution_count": null,
      "outputs": []
    },
    {
      "cell_type": "code",
      "execution_count": 6,
      "metadata": {
        "colab": {
          "base_uri": "https://localhost:8080/"
        },
        "id": "b6Xbt7lF_4Kz",
        "outputId": "644346be-3fb5-43b1-b2f9-14c6b095d7a5"
      },
      "outputs": [
        {
          "output_type": "stream",
          "name": "stdout",
          "text": [
            "Looking in indexes: https://pypi.org/simple, https://us-python.pkg.dev/colab-wheels/public/simple/\n",
            "Requirement already satisfied: datascience in /usr/local/lib/python3.7/dist-packages (0.17.5)\n",
            "Requirement already satisfied: pandas in /usr/local/lib/python3.7/dist-packages (from datascience) (1.3.5)\n",
            "Requirement already satisfied: numpy in /usr/local/lib/python3.7/dist-packages (from datascience) (1.21.6)\n",
            "Requirement already satisfied: branca in /usr/local/lib/python3.7/dist-packages (from datascience) (0.5.0)\n",
            "Requirement already satisfied: matplotlib>=3.0.0 in /usr/local/lib/python3.7/dist-packages (from datascience) (3.2.2)\n",
            "Requirement already satisfied: folium>=0.9.1 in /usr/local/lib/python3.7/dist-packages (from datascience) (0.12.1.post1)\n",
            "Requirement already satisfied: ipython in /usr/local/lib/python3.7/dist-packages (from datascience) (5.5.0)\n",
            "Requirement already satisfied: setuptools in /usr/local/lib/python3.7/dist-packages (from datascience) (57.4.0)\n",
            "Requirement already satisfied: scipy in /usr/local/lib/python3.7/dist-packages (from datascience) (1.7.3)\n",
            "Requirement already satisfied: plotly in /usr/local/lib/python3.7/dist-packages (from datascience) (5.5.0)\n",
            "Requirement already satisfied: jinja2>=2.9 in /usr/local/lib/python3.7/dist-packages (from folium>=0.9.1->datascience) (2.11.3)\n",
            "Requirement already satisfied: requests in /usr/local/lib/python3.7/dist-packages (from folium>=0.9.1->datascience) (2.23.0)\n",
            "Requirement already satisfied: MarkupSafe>=0.23 in /usr/local/lib/python3.7/dist-packages (from jinja2>=2.9->folium>=0.9.1->datascience) (2.0.1)\n",
            "Requirement already satisfied: python-dateutil>=2.1 in /usr/local/lib/python3.7/dist-packages (from matplotlib>=3.0.0->datascience) (2.8.2)\n",
            "Requirement already satisfied: kiwisolver>=1.0.1 in /usr/local/lib/python3.7/dist-packages (from matplotlib>=3.0.0->datascience) (1.4.4)\n",
            "Requirement already satisfied: cycler>=0.10 in /usr/local/lib/python3.7/dist-packages (from matplotlib>=3.0.0->datascience) (0.11.0)\n",
            "Requirement already satisfied: pyparsing!=2.0.4,!=2.1.2,!=2.1.6,>=2.0.1 in /usr/local/lib/python3.7/dist-packages (from matplotlib>=3.0.0->datascience) (3.0.9)\n",
            "Requirement already satisfied: typing-extensions in /usr/local/lib/python3.7/dist-packages (from kiwisolver>=1.0.1->matplotlib>=3.0.0->datascience) (4.1.1)\n",
            "Requirement already satisfied: six>=1.5 in /usr/local/lib/python3.7/dist-packages (from python-dateutil>=2.1->matplotlib>=3.0.0->datascience) (1.15.0)\n",
            "Requirement already satisfied: pygments in /usr/local/lib/python3.7/dist-packages (from ipython->datascience) (2.6.1)\n",
            "Requirement already satisfied: simplegeneric>0.8 in /usr/local/lib/python3.7/dist-packages (from ipython->datascience) (0.8.1)\n",
            "Requirement already satisfied: traitlets>=4.2 in /usr/local/lib/python3.7/dist-packages (from ipython->datascience) (5.1.1)\n",
            "Requirement already satisfied: decorator in /usr/local/lib/python3.7/dist-packages (from ipython->datascience) (4.4.2)\n",
            "Requirement already satisfied: pickleshare in /usr/local/lib/python3.7/dist-packages (from ipython->datascience) (0.7.5)\n",
            "Requirement already satisfied: pexpect in /usr/local/lib/python3.7/dist-packages (from ipython->datascience) (4.8.0)\n",
            "Requirement already satisfied: prompt-toolkit<2.0.0,>=1.0.4 in /usr/local/lib/python3.7/dist-packages (from ipython->datascience) (1.0.18)\n",
            "Requirement already satisfied: wcwidth in /usr/local/lib/python3.7/dist-packages (from prompt-toolkit<2.0.0,>=1.0.4->ipython->datascience) (0.2.5)\n",
            "Requirement already satisfied: pytz>=2017.3 in /usr/local/lib/python3.7/dist-packages (from pandas->datascience) (2022.1)\n",
            "Requirement already satisfied: ptyprocess>=0.5 in /usr/local/lib/python3.7/dist-packages (from pexpect->ipython->datascience) (0.7.0)\n",
            "Requirement already satisfied: tenacity>=6.2.0 in /usr/local/lib/python3.7/dist-packages (from plotly->datascience) (8.0.1)\n",
            "Requirement already satisfied: chardet<4,>=3.0.2 in /usr/local/lib/python3.7/dist-packages (from requests->folium>=0.9.1->datascience) (3.0.4)\n",
            "Requirement already satisfied: idna<3,>=2.5 in /usr/local/lib/python3.7/dist-packages (from requests->folium>=0.9.1->datascience) (2.10)\n",
            "Requirement already satisfied: certifi>=2017.4.17 in /usr/local/lib/python3.7/dist-packages (from requests->folium>=0.9.1->datascience) (2022.6.15)\n",
            "Requirement already satisfied: urllib3!=1.25.0,!=1.25.1,<1.26,>=1.21.1 in /usr/local/lib/python3.7/dist-packages (from requests->folium>=0.9.1->datascience) (1.24.3)\n"
          ]
        }
      ],
      "source": [
        "# Install the required package \n",
        "!pip install datascience "
      ]
    },
    {
      "cell_type": "code",
      "execution_count": 7,
      "metadata": {
        "id": "XdONMxwl_4K0"
      },
      "outputs": [],
      "source": [
        "# Run this cell, but please don't change it.\n",
        "\n",
        "# These lines import the Numpy and Datascience modules.\n",
        "import numpy as np\n",
        "from datascience import *\n",
        "\n",
        "# These lines do some fancy plotting magic\n",
        "import matplotlib\n",
        "%matplotlib inline\n",
        "import matplotlib.pyplot as plt\n",
        "plt.style.use('fivethirtyeight')"
      ]
    },
    {
      "cell_type": "markdown",
      "metadata": {
        "id": "Cg1MHYcZ_4K0"
      },
      "source": [
        "Run the cell below to load player and salary data that we will use for our sampling."
      ]
    },
    {
      "cell_type": "code",
      "execution_count": 8,
      "metadata": {
        "colab": {
          "base_uri": "https://localhost:8080/",
          "height": 484
        },
        "id": "HWhwNra4_4K0",
        "outputId": "ae68bfd0-90a2-4c68-cddd-30d901289687"
      },
      "outputs": [
        {
          "output_type": "display_data",
          "data": {
            "text/plain": [
              "<IPython.core.display.HTML object>"
            ],
            "text/html": [
              "<table border=\"1\" class=\"dataframe\">\n",
              "    <thead>\n",
              "        <tr>\n",
              "            <th>Name</th> <th>Age</th> <th>Team</th> <th>Games</th> <th>Rebounds</th> <th>Assists</th> <th>Steals</th> <th>Blocks</th> <th>Turnovers</th> <th>Points</th>\n",
              "        </tr>\n",
              "    </thead>\n",
              "    <tbody>\n",
              "        <tr>\n",
              "            <td>James Harden </td> <td>25  </td> <td>HOU </td> <td>81   </td> <td>459     </td> <td>565    </td> <td>154   </td> <td>60    </td> <td>321      </td> <td>2217  </td>\n",
              "        </tr>\n",
              "        <tr>\n",
              "            <td>Chris Paul   </td> <td>29  </td> <td>LAC </td> <td>82   </td> <td>376     </td> <td>838    </td> <td>156   </td> <td>15    </td> <td>190      </td> <td>1564  </td>\n",
              "        </tr>\n",
              "        <tr>\n",
              "            <td>Stephen Curry</td> <td>26  </td> <td>GSW </td> <td>80   </td> <td>341     </td> <td>619    </td> <td>163   </td> <td>16    </td> <td>249      </td> <td>1900  </td>\n",
              "        </tr>\n",
              "    </tbody>\n",
              "</table>\n",
              "<p>... (489 rows omitted)</p>"
            ]
          },
          "metadata": {}
        },
        {
          "output_type": "display_data",
          "data": {
            "text/plain": [
              "<IPython.core.display.HTML object>"
            ],
            "text/html": [
              "<table border=\"1\" class=\"dataframe\">\n",
              "    <thead>\n",
              "        <tr>\n",
              "            <th>PlayerName</th> <th>Salary</th>\n",
              "        </tr>\n",
              "    </thead>\n",
              "    <tbody>\n",
              "        <tr>\n",
              "            <td>Kobe Bryant      </td> <td>23500000</td>\n",
              "        </tr>\n",
              "        <tr>\n",
              "            <td>Amar'e Stoudemire</td> <td>23410988</td>\n",
              "        </tr>\n",
              "        <tr>\n",
              "            <td>Joe Johnson      </td> <td>23180790</td>\n",
              "        </tr>\n",
              "    </tbody>\n",
              "</table>\n",
              "<p>... (489 rows omitted)</p>"
            ]
          },
          "metadata": {}
        },
        {
          "output_type": "display_data",
          "data": {
            "text/plain": [
              "<IPython.core.display.HTML object>"
            ],
            "text/html": [
              "<table border=\"1\" class=\"dataframe\">\n",
              "    <thead>\n",
              "        <tr>\n",
              "            <th>PlayerName</th> <th>Salary</th> <th>Age</th> <th>Team</th> <th>Games</th> <th>Rebounds</th> <th>Assists</th> <th>Steals</th> <th>Blocks</th> <th>Turnovers</th> <th>Points</th>\n",
              "        </tr>\n",
              "    </thead>\n",
              "    <tbody>\n",
              "        <tr>\n",
              "            <td>A.J. Price  </td> <td>62552  </td> <td>28  </td> <td>TOT </td> <td>26   </td> <td>32      </td> <td>46     </td> <td>7     </td> <td>0     </td> <td>14       </td> <td>133   </td>\n",
              "        </tr>\n",
              "        <tr>\n",
              "            <td>Aaron Brooks</td> <td>1145685</td> <td>30  </td> <td>CHI </td> <td>82   </td> <td>166     </td> <td>261    </td> <td>54    </td> <td>15    </td> <td>157      </td> <td>954   </td>\n",
              "        </tr>\n",
              "        <tr>\n",
              "            <td>Aaron Gordon</td> <td>3992040</td> <td>19  </td> <td>ORL </td> <td>47   </td> <td>169     </td> <td>33     </td> <td>21    </td> <td>22    </td> <td>38       </td> <td>243   </td>\n",
              "        </tr>\n",
              "    </tbody>\n",
              "</table>\n",
              "<p>... (489 rows omitted)</p>"
            ]
          },
          "metadata": {}
        }
      ],
      "source": [
        "player_data = Table().read_table(\"https://raw.githubusercontent.com/suthapalliuday/INFO5502-Summer2022/main/datasets/lab-assignment-7/player_data.csv\")\n",
        "salary_data = Table().read_table(\"https://raw.githubusercontent.com/suthapalliuday/INFO5502-Summer2022/main/datasets/lab-assignment-7/salary_data.csv\")\n",
        "full_data = salary_data.join(\"PlayerName\", player_data, \"Name\")\n",
        "\n",
        "# The show method immediately displays the contents of a table. \n",
        "# This way, we can display the top of two tables using a single cell.\n",
        "player_data.show(3)\n",
        "salary_data.show(3)\n",
        "full_data.show(3)"
      ]
    },
    {
      "cell_type": "markdown",
      "metadata": {
        "id": "_2PktLSq_4K0"
      },
      "source": [
        "Rather than getting data on every player (as in the tables loaded above), imagine that we had gotten data on only a smaller subset of the players. For 492 players, it's not so unreasonable to expect to see all the data, but usually we aren't so lucky.\n",
        "\n",
        "If we want to make estimates about a certain numerical property of the population (known as a statistic, e.g. the mean or median), we may have to come up with these estimates based only on a smaller sample. Whether these estimates are useful or not often depends on how the sample was gathered. We have prepared some example sample datasets to see how they compare to the full NBA dataset. Later we'll ask you to create your own samples to see how they behave."
      ]
    },
    {
      "cell_type": "markdown",
      "metadata": {
        "id": "d88CE_VQ_4K1"
      },
      "source": [
        "To save typing and increase the clarity of your code, we will package the analysis code into a few functions. This will be useful in the rest of the lab as we will repeatedly need to create histograms and collect summary statistics from that data."
      ]
    },
    {
      "cell_type": "markdown",
      "metadata": {
        "id": "XUjBAs3i_4K1"
      },
      "source": [
        "We've defined the histograms function below, which takes a table with columns Age and Salary and draws a histogram for each one. It uses bin widths of 1 year for Age and $1,000,000 for Salary."
      ]
    },
    {
      "cell_type": "code",
      "execution_count": 9,
      "metadata": {
        "colab": {
          "base_uri": "https://localhost:8080/",
          "height": 644
        },
        "id": "bB3zHhjC_4K1",
        "outputId": "442f31c3-f417-42c3-b36a-5ff8fbadb191"
      },
      "outputs": [
        {
          "output_type": "stream",
          "name": "stdout",
          "text": [
            "Two histograms should be displayed below\n"
          ]
        },
        {
          "output_type": "display_data",
          "data": {
            "text/plain": [
              "<Figure size 432x288 with 1 Axes>"
            ],
            "image/png": "[encoded data removed]"
          },
          "metadata": {}
        },
        {
          "output_type": "display_data",
          "data": {
            "text/plain": [
              "<Figure size 432x288 with 1 Axes>"
            ],
            "image/png": "[encoded data removed]"
          },
          "metadata": {}
        }
      ],
      "source": [
        "def histograms(t):\n",
        "    ages = t.column('Age')\n",
        "    salaries = t.column('Salary')/1000000\n",
        "    t1 = t.drop('Salary').with_column('Salary', salaries)\n",
        "    age_bins = np.arange(min(ages), max(ages) + 2, 1) \n",
        "    salary_bins = np.arange(min(salaries), max(salaries) + 1, 1)\n",
        "    t1.hist('Age', bins=age_bins, unit='year')\n",
        "    plt.title('Age distribution')\n",
        "    t1.hist('Salary', bins=salary_bins, unit='million dollars')\n",
        "    plt.title('Salary distribution') \n",
        "    \n",
        "histograms (full_data)\n",
        "print('Two histograms should be displayed below')"
      ]
    },
    {
      "cell_type": "markdown",
      "metadata": {
        "id": "iWMI_Z47_4K1"
      },
      "source": [
        "### Question 1 (10 points) \n",
        "\n",
        "Create a function called compute_statistics that takes a table containing ages and salaries and:\n",
        "\n",
        "(1) Draws a histogram of ages\n",
        "\n",
        "(2) Draws a histogram of salaries\n",
        "\n",
        "(3) Returns a two-element array containing the average age and average salary (in that order)\n",
        "\n",
        "\n",
        "You can call the histograms function to draw the histograms!\n",
        "\n",
        "Note: More charts will be displayed when running the test cell. Please feel free to ignore the charts."
      ]
    },
    {
      "cell_type": "code",
      "execution_count": 10,
      "metadata": {
        "colab": {
          "base_uri": "https://localhost:8080/",
          "height": 644
        },
        "id": "RISUm7bH_4K1",
        "outputId": "3750b827-2883-4d19-fd87-117c4f937b57"
      },
      "outputs": [
        {
          "output_type": "execute_result",
          "data": {
            "text/plain": [
              "array([  2.65365854e+01,   4.26977577e+06])"
            ]
          },
          "metadata": {},
          "execution_count": 10
        },
        {
          "output_type": "display_data",
          "data": {
            "text/plain": [
              "<Figure size 432x288 with 1 Axes>"
            ],
            "image/png": "[encoded data removed]"
          },
          "metadata": {}
        },
        {
          "output_type": "display_data",
          "data": {
            "text/plain": [
              "<Figure size 432x288 with 1 Axes>"
            ],
            "image/png": "[encoded data removed]"
          },
          "metadata": {}
        }
      ],
      "source": [
        "def compute_statistics(age_and_salary_data):\n",
        "    histograms(age_and_salary_data)\n",
        "    age = age_and_salary_data.column(\"Age\")\n",
        "    salary = age_and_salary_data.column(\"Salary\")\n",
        "    return  make_array(np.mean(age), np.mean(salary))\n",
        "    \n",
        "    \n",
        "full_stats = compute_statistics(full_data)\n",
        "full_stats"
      ]
    },
    {
      "cell_type": "code",
      "execution_count": 11,
      "metadata": {
        "colab": {
          "base_uri": "https://localhost:8080/"
        },
        "id": "oEnT5MQd_4K2",
        "outputId": "d37f5ca7-c370-4d74-e6ea-225522aa97e7"
      },
      "outputs": [
        {
          "output_type": "execute_result",
          "data": {
            "text/plain": [
              "True"
            ]
          },
          "metadata": {},
          "execution_count": 11
        }
      ],
      "source": [
        "# TEST\n",
        "stats = compute_statistics(full_data)\n",
        "plt.close()\n",
        "plt.close()\n",
        "round(float(stats[0]), 2) == 26.54\n",
        "\n"
      ]
    },
    {
      "cell_type": "code",
      "execution_count": 12,
      "metadata": {
        "colab": {
          "base_uri": "https://localhost:8080/"
        },
        "id": "5xrbqHRU_4K2",
        "outputId": "9eba1cb6-b2cf-4869-a08e-fb05c4638673"
      },
      "outputs": [
        {
          "output_type": "execute_result",
          "data": {
            "text/plain": [
              "True"
            ]
          },
          "metadata": {},
          "execution_count": 12
        }
      ],
      "source": [
        "# TEST\n",
        "stats = compute_statistics(full_data)\n",
        "plt.close()\n",
        "plt.close()\n",
        "round(float(stats[1]), 2) == 4269775.77\n",
        "\n"
      ]
    },
    {
      "cell_type": "markdown",
      "metadata": {
        "id": "Drf0dHWj_4K2"
      },
      "source": [
        "### Question 2 (10 points) Convenience sampling\n",
        "\n",
        "One sampling methodology, which is generally a bad idea, is to choose players who are somehow convenient to sample. For example, you might choose players from one team who are near your house, since it's easier to survey them. This is called, somewhat pejoratively, convenience sampling.\n",
        "\n",
        "Suppose you survey only relatively new players with ages less than 22. (The more experienced players didn't bother to answer your surveys about their salaries.)\n",
        "\n",
        "Assign `convenience_sample` to a subset of `full_data` that contains only the rows for players under the age of 22."
      ]
    },
    {
      "cell_type": "code",
      "execution_count": 13,
      "metadata": {
        "colab": {
          "base_uri": "https://localhost:8080/",
          "height": 392
        },
        "id": "-OCWZzJm_4K2",
        "outputId": "a30e6a88-cab8-4f5b-afa1-1dd897c852ad"
      },
      "outputs": [
        {
          "output_type": "execute_result",
          "data": {
            "text/plain": [
              "PlayerName      | Salary  | Age  | Team | Games | Rebounds | Assists | Steals | Blocks | Turnovers | Points\n",
              "Aaron Gordon    | 3992040 | 19   | ORL  | 47    | 169      | 33      | 21     | 22     | 38        | 243\n",
              "Alex Len        | 3649920 | 21   | PHO  | 69    | 454      | 32      | 34     | 105    | 74        | 432\n",
              "Andre Drummond  | 2568360 | 21   | DET  | 82    | 1104     | 55      | 73     | 153    | 120       | 1130\n",
              "Andrew Wiggins  | 5510640 | 19   | MIN  | 82    | 374      | 170     | 86     | 50     | 177       | 1387\n",
              "Anthony Bennett | 5563920 | 21   | MIN  | 57    | 216      | 48      | 27     | 16     | 36        | 298\n",
              "Anthony Davis   | 5607240 | 21   | NOP  | 68    | 696      | 149     | 100    | 200    | 95        | 1656\n",
              "Archie Goodwin  | 1112280 | 20   | PHO  | 41    | 74       | 44      | 18     | 9      | 48        | 231\n",
              "Ben McLemore    | 3026280 | 21   | SAC  | 82    | 241      | 140     | 77     | 19     | 138       | 996\n",
              "Bradley Beal    | 4505280 | 21   | WAS  | 63    | 241      | 194     | 76     | 18     | 123       | 962\n",
              "Bruno Caboclo   | 1458360 | 19   | TOR  | 8     | 2        | 0       | 0      | 1      | 4         | 10\n",
              "... (34 rows omitted)"
            ],
            "text/html": [
              "<table border=\"1\" class=\"dataframe\">\n",
              "    <thead>\n",
              "        <tr>\n",
              "            <th>PlayerName</th> <th>Salary</th> <th>Age</th> <th>Team</th> <th>Games</th> <th>Rebounds</th> <th>Assists</th> <th>Steals</th> <th>Blocks</th> <th>Turnovers</th> <th>Points</th>\n",
              "        </tr>\n",
              "    </thead>\n",
              "    <tbody>\n",
              "        <tr>\n",
              "            <td>Aaron Gordon   </td> <td>3992040</td> <td>19  </td> <td>ORL </td> <td>47   </td> <td>169     </td> <td>33     </td> <td>21    </td> <td>22    </td> <td>38       </td> <td>243   </td>\n",
              "        </tr>\n",
              "        <tr>\n",
              "            <td>Alex Len       </td> <td>3649920</td> <td>21  </td> <td>PHO </td> <td>69   </td> <td>454     </td> <td>32     </td> <td>34    </td> <td>105   </td> <td>74       </td> <td>432   </td>\n",
              "        </tr>\n",
              "        <tr>\n",
              "            <td>Andre Drummond </td> <td>2568360</td> <td>21  </td> <td>DET </td> <td>82   </td> <td>1104    </td> <td>55     </td> <td>73    </td> <td>153   </td> <td>120      </td> <td>1130  </td>\n",
              "        </tr>\n",
              "        <tr>\n",
              "            <td>Andrew Wiggins </td> <td>5510640</td> <td>19  </td> <td>MIN </td> <td>82   </td> <td>374     </td> <td>170    </td> <td>86    </td> <td>50    </td> <td>177      </td> <td>1387  </td>\n",
              "        </tr>\n",
              "        <tr>\n",
              "            <td>Anthony Bennett</td> <td>5563920</td> <td>21  </td> <td>MIN </td> <td>57   </td> <td>216     </td> <td>48     </td> <td>27    </td> <td>16    </td> <td>36       </td> <td>298   </td>\n",
              "        </tr>\n",
              "        <tr>\n",
              "            <td>Anthony Davis  </td> <td>5607240</td> <td>21  </td> <td>NOP </td> <td>68   </td> <td>696     </td> <td>149    </td> <td>100   </td> <td>200   </td> <td>95       </td> <td>1656  </td>\n",
              "        </tr>\n",
              "        <tr>\n",
              "            <td>Archie Goodwin </td> <td>1112280</td> <td>20  </td> <td>PHO </td> <td>41   </td> <td>74      </td> <td>44     </td> <td>18    </td> <td>9     </td> <td>48       </td> <td>231   </td>\n",
              "        </tr>\n",
              "        <tr>\n",
              "            <td>Ben McLemore   </td> <td>3026280</td> <td>21  </td> <td>SAC </td> <td>82   </td> <td>241     </td> <td>140    </td> <td>77    </td> <td>19    </td> <td>138      </td> <td>996   </td>\n",
              "        </tr>\n",
              "        <tr>\n",
              "            <td>Bradley Beal   </td> <td>4505280</td> <td>21  </td> <td>WAS </td> <td>63   </td> <td>241     </td> <td>194    </td> <td>76    </td> <td>18    </td> <td>123      </td> <td>962   </td>\n",
              "        </tr>\n",
              "        <tr>\n",
              "            <td>Bruno Caboclo  </td> <td>1458360</td> <td>19  </td> <td>TOR </td> <td>8    </td> <td>2       </td> <td>0      </td> <td>0     </td> <td>1     </td> <td>4        </td> <td>10    </td>\n",
              "        </tr>\n",
              "    </tbody>\n",
              "</table>\n",
              "<p>... (34 rows omitted)</p>"
            ]
          },
          "metadata": {},
          "execution_count": 13
        }
      ],
      "source": [
        "### You code here:\n",
        "\n",
        "convenience_sample = full_data.where(full_data['Age']<22)\n",
        "convenience_sample\n",
        "\n",
        "\n",
        "\n"
      ]
    },
    {
      "cell_type": "code",
      "execution_count": 14,
      "metadata": {
        "colab": {
          "base_uri": "https://localhost:8080/"
        },
        "id": "dmItRMzf_4K3",
        "outputId": "a8050dca-379c-40f9-b011-a08942369514"
      },
      "outputs": [
        {
          "output_type": "execute_result",
          "data": {
            "text/plain": [
              "True"
            ]
          },
          "metadata": {},
          "execution_count": 14
        }
      ],
      "source": [
        "# TEST\n",
        "convenience_sample.num_columns == 11\n",
        "\n"
      ]
    },
    {
      "cell_type": "code",
      "execution_count": 15,
      "metadata": {
        "colab": {
          "base_uri": "https://localhost:8080/"
        },
        "id": "J7AZwd38_4K3",
        "outputId": "97dc8728-cae4-4d63-9ccd-a33ec2b08736"
      },
      "outputs": [
        {
          "output_type": "execute_result",
          "data": {
            "text/plain": [
              "True"
            ]
          },
          "metadata": {},
          "execution_count": 15
        }
      ],
      "source": [
        "# TEST\n",
        "convenience_sample.num_rows == 44\n",
        "\n"
      ]
    },
    {
      "cell_type": "markdown",
      "metadata": {
        "id": "_VDFT-96_4K3"
      },
      "source": [
        "### Question 3 (10 points) \n",
        "\n",
        "Assign convenience_stats to an array of the average age and average salary of your convenience sample, using the compute_statistics function. Since they're computed on a sample, these are called sample averages."
      ]
    },
    {
      "cell_type": "code",
      "execution_count": 54,
      "metadata": {
        "colab": {
          "base_uri": "https://localhost:8080/",
          "height": 201
        },
        "id": "YYFKzxdC_4K3",
        "outputId": "b4aa37a4-47b7-4097-f067-e11c694a8cd7"
      },
      "outputs": [
        {
          "output_type": "error",
          "ename": "NameError",
          "evalue": "ignored",
          "traceback": [
            "\u001b[0;31m---------------------------------------------------------------------------\u001b[0m",
            "\u001b[0;31mNameError\u001b[0m                                 Traceback (most recent call last)",
            "\u001b[0;32m<ipython-input-54-9bb42d5a6018>\u001b[0m in \u001b[0;36m<module>\u001b[0;34m()\u001b[0m\n\u001b[0;32m----> 1\u001b[0;31m \u001b[0mconvenience_stats\u001b[0m \u001b[0;34m=\u001b[0m \u001b[0mcompute_stats\u001b[0m\u001b[0;34m(\u001b[0m\u001b[0mconvenience_sample\u001b[0m\u001b[0;34m)\u001b[0m\u001b[0;34m\u001b[0m\u001b[0;34m\u001b[0m\u001b[0m\n\u001b[0m\u001b[1;32m      2\u001b[0m \u001b[0mconvenience_stats\u001b[0m\u001b[0;34m\u001b[0m\u001b[0;34m\u001b[0m\u001b[0m\n\u001b[1;32m      3\u001b[0m \u001b[0;34m\u001b[0m\u001b[0m\n",
            "\u001b[0;31mNameError\u001b[0m: name 'compute_stats' is not defined"
          ]
        }
      ],
      "source": [
        "convenience_stats = compute_stats(convenience_sample)\n",
        "convenience_stats\n",
        "\n"
      ]
    },
    {
      "cell_type": "code",
      "execution_count": 56,
      "metadata": {
        "colab": {
          "base_uri": "https://localhost:8080/"
        },
        "id": "kX5V5WPP_4K3",
        "outputId": "116e7678-eeb1-4869-f98e-575597f9ae40"
      },
      "outputs": [
        {
          "output_type": "execute_result",
          "data": {
            "text/plain": [
              "True"
            ]
          },
          "metadata": {},
          "execution_count": 56
        }
      ],
      "source": [
        "# TEST\n",
        "len(convenience_stats) == 2\n",
        "\n"
      ]
    },
    {
      "cell_type": "code",
      "execution_count": 51,
      "metadata": {
        "colab": {
          "base_uri": "https://localhost:8080/"
        },
        "id": "xXx3AbuF_4K3",
        "outputId": "b1d0b5a4-29f2-4870-9dfb-f0b97399e47a"
      },
      "outputs": [
        {
          "output_type": "execute_result",
          "data": {
            "text/plain": [
              "True"
            ]
          },
          "metadata": {},
          "execution_count": 51
        }
      ],
      "source": [
        "# TEST \n",
        "round(float(convenience_stats[0]), 2) == 20.36\n",
        "\n"
      ]
    },
    {
      "cell_type": "code",
      "execution_count": 49,
      "metadata": {
        "colab": {
          "base_uri": "https://localhost:8080/"
        },
        "id": "67Dt6Si9_4K4",
        "outputId": "05bf77c3-1a58-490d-c24d-cc5dcef7f070"
      },
      "outputs": [
        {
          "output_type": "execute_result",
          "data": {
            "text/plain": [
              "True"
            ]
          },
          "metadata": {},
          "execution_count": 49
        }
      ],
      "source": [
        "# TEST\n",
        "round(float(convenience_stat[1]), 2) == 2383533.82\n",
        "\n"
      ]
    },
    {
      "cell_type": "markdown",
      "metadata": {
        "id": "BYz4fQws_4K4"
      },
      "source": [
        "Next, we'll compare the convenience sample salaries with the full data salaries in a single histogram. To do that, we'll need to use the bin_column option of the hist method, which indicates that all columns are counts of the bins in a particular column. The following cell does not require any changes; just run it."
      ]
    },
    {
      "cell_type": "code",
      "execution_count": 40,
      "metadata": {
        "colab": {
          "base_uri": "https://localhost:8080/",
          "height": 322
        },
        "id": "zfS8RCBV_4K4",
        "outputId": "38ced971-f0d4-485c-8f6e-ed8a5a627860"
      },
      "outputs": [
        {
          "output_type": "display_data",
          "data": {
            "text/plain": [
              "<Figure size 432x288 with 1 Axes>"
            ],
            "image/png": "[encoded data removed]"
          },
          "metadata": {}
        }
      ],
      "source": [
        "def compare_salaries(first, second, first_title, second_title):\n",
        "    \"\"\"Compare the salaries in two tables.\"\"\"\n",
        "    first_salary_in_millions = first.column('Salary')/1000000\n",
        "    second_salary_in_millions = second.column('Salary')/1000000\n",
        "    first_tbl_millions = first.drop('Salary').with_column('Salary', first_salary_in_millions)\n",
        "    second_tbl_millions = second.drop('Salary').with_column('Salary', second_salary_in_millions)\n",
        "    max_salary = max(np.append(first_tbl_millions.column('Salary'), second_tbl_millions.column('Salary')))\n",
        "    bins = np.arange(0, max_salary+1, 1)\n",
        "    first_binned = first_tbl_millions.bin('Salary', bins=bins).relabeled(1, first_title)\n",
        "    second_binned = second_tbl_millions.bin('Salary', bins=bins).relabeled(1, second_title)\n",
        "    first_binned.join('bin', second_binned).hist(bin_column='bin', unit='million dollars')\n",
        "    plt.title('Salaries for all players and convenience sample')\n",
        "\n",
        "compare_salaries(full_data, convenience_sample, 'All Players', 'Convenience Sample')"
      ]
    },
    {
      "cell_type": "markdown",
      "metadata": {
        "id": "Wf0B4t6P_4K4"
      },
      "source": [
        "### Question 4 (10 points) \n",
        "Does the convenience sample give us an accurate picture of the salary of the full population? Would you expect it to, in general? Before you move on, write a short answer in English below. You can refer to the statistics calculated above or perform your own analysis."
      ]
    },
    {
      "cell_type": "code",
      "execution_count": 30,
      "metadata": {
        "colab": {
          "base_uri": "https://localhost:8080/",
          "height": 122
        },
        "id": "HgMyi3qP_4K4",
        "outputId": "cdc9bb21-4c9d-4c30-be09-f3567227b606"
      },
      "outputs": [
        {
          "output_type": "execute_result",
          "data": {
            "text/plain": [
              "'\\nAnswer: \\n\\n----->  The execution of the function \"compare salaries\" in the aforementioned code amply demonstrates that the sample size does not accurately represent the average income of the entire population..\\n\\n----->  In overall, I wouldn\\'t anticipate getting a clear estimation as from convenience sample since it doesn\\'t include all possible scenarios or types of data.\\n----->   In addition to utilizing a simple random sample with\\xa0no substitution to ensure that the same player is not chosen twice, as was discussed below, using random samples is the more ethical course of action because they include all relevant facts and are not chosen based on convenience.\\n\\n'"
            ],
            "application/vnd.google.colaboratory.intrinsic+json": {
              "type": "string"
            }
          },
          "metadata": {},
          "execution_count": 30
        }
      ],
      "source": [
        "### Please write your answer here (no code required)\n",
        "\n",
        "\"\"\"\n",
        "Answer: \n",
        "\n",
        "----->  The execution of the function \"compare salaries\" in the aforementioned code amply demonstrates that the sample size does not accurately represent the average income of the entire population..\n",
        "\n",
        "----->  In overall, I wouldn't anticipate getting a clear estimation as from convenience sample since it doesn't include all possible scenarios or types of data.\n",
        "----->   In addition to utilizing a simple random sample with no substitution to ensure that the same player is not chosen twice, as was discussed below, using random samples is the more ethical course of action because they include all relevant facts and are not chosen based on convenience.\n",
        "\n",
        "\"\"\""
      ]
    },
    {
      "cell_type": "markdown",
      "metadata": {
        "id": "HFRv1NDm_4K4"
      },
      "source": [
        "### Simple random sampling\n",
        "A more justifiable approach is to sample uniformly at random from the players.  In a **simple random sample (SRS) without replacement**, we ensure that each player is selected at most once. Imagine writing down each player's name on a card, putting the cards in an box, and shuffling the box.  Then, pull out cards one by one and set them aside, stopping when the specified sample size is reached."
      ]
    },
    {
      "cell_type": "markdown",
      "metadata": {
        "id": "lVl8YzVi_4K5"
      },
      "source": [
        "### Producing simple random samples\n",
        "Sometimes, it’s useful to take random samples even when we have the data for the whole population. It helps us understand sampling accuracy.\n",
        "\n",
        "### `sample`\n",
        "\n",
        "The table method `sample` produces a random sample from the table. By default, it draws at random **with replacement** from the rows of a table. It takes in the sample size as its argument and returns a **table** with only the rows that were selected. \n",
        "\n",
        "Run the cell below to see an example call to `sample()` with a sample size of 5, with replacement."
      ]
    },
    {
      "cell_type": "code",
      "execution_count": 22,
      "metadata": {
        "colab": {
          "base_uri": "https://localhost:8080/",
          "height": 206
        },
        "id": "qNz5Wyk__4K5",
        "outputId": "c5814cb6-1b0b-470c-d28c-91f249b9464a"
      },
      "outputs": [
        {
          "output_type": "execute_result",
          "data": {
            "text/plain": [
              "PlayerName         | Salary\n",
              "Donatas Motiejunas | 1483920\n",
              "Elliot Williams    | 57711\n",
              "Luke Ridnour       | 2750000\n",
              "Elton Brand        | 2000000\n",
              "Amar'e Stoudemire  | 23410988"
            ],
            "text/html": [
              "<table border=\"1\" class=\"dataframe\">\n",
              "    <thead>\n",
              "        <tr>\n",
              "            <th>PlayerName</th> <th>Salary</th>\n",
              "        </tr>\n",
              "    </thead>\n",
              "    <tbody>\n",
              "        <tr>\n",
              "            <td>Donatas Motiejunas</td> <td>1483920 </td>\n",
              "        </tr>\n",
              "        <tr>\n",
              "            <td>Elliot Williams   </td> <td>57711   </td>\n",
              "        </tr>\n",
              "        <tr>\n",
              "            <td>Luke Ridnour      </td> <td>2750000 </td>\n",
              "        </tr>\n",
              "        <tr>\n",
              "            <td>Elton Brand       </td> <td>2000000 </td>\n",
              "        </tr>\n",
              "        <tr>\n",
              "            <td>Amar'e Stoudemire </td> <td>23410988</td>\n",
              "        </tr>\n",
              "    </tbody>\n",
              "</table>"
            ]
          },
          "metadata": {},
          "execution_count": 22
        }
      ],
      "source": [
        "# Just run this cell\n",
        "\n",
        "salary_data.sample(5)"
      ]
    },
    {
      "cell_type": "markdown",
      "metadata": {
        "id": "0WPSAPq9_4K5"
      },
      "source": [
        "The optional argument with_replacement=False can be passed through sample() to specify that the sample should be drawn without replacement.\n",
        "\n",
        "Run the cell below to see an example call to sample() with a sample size of 5, without replacement."
      ]
    },
    {
      "cell_type": "code",
      "execution_count": 23,
      "metadata": {
        "colab": {
          "base_uri": "https://localhost:8080/",
          "height": 206
        },
        "id": "YsXBqyxG_4K5",
        "outputId": "a1cc6526-4641-4172-cbd7-e6da3a7702dd"
      },
      "outputs": [
        {
          "output_type": "execute_result",
          "data": {
            "text/plain": [
              "PlayerName       | Salary\n",
              "Landry Fields    | 6250000\n",
              "Patrick Beverley | 915243\n",
              "Andre Dawkins    | 29843\n",
              "DeMarcus Cousins | 14746000\n",
              "Matt Barnes      | 3396250"
            ],
            "text/html": [
              "<table border=\"1\" class=\"dataframe\">\n",
              "    <thead>\n",
              "        <tr>\n",
              "            <th>PlayerName</th> <th>Salary</th>\n",
              "        </tr>\n",
              "    </thead>\n",
              "    <tbody>\n",
              "        <tr>\n",
              "            <td>Landry Fields   </td> <td>6250000 </td>\n",
              "        </tr>\n",
              "        <tr>\n",
              "            <td>Patrick Beverley</td> <td>915243  </td>\n",
              "        </tr>\n",
              "        <tr>\n",
              "            <td>Andre Dawkins   </td> <td>29843   </td>\n",
              "        </tr>\n",
              "        <tr>\n",
              "            <td>DeMarcus Cousins</td> <td>14746000</td>\n",
              "        </tr>\n",
              "        <tr>\n",
              "            <td>Matt Barnes     </td> <td>3396250 </td>\n",
              "        </tr>\n",
              "    </tbody>\n",
              "</table>"
            ]
          },
          "metadata": {},
          "execution_count": 23
        }
      ],
      "source": [
        "# Just run this cell\n",
        "\n",
        "salary_data.sample(5, with_replacement=False)"
      ]
    },
    {
      "cell_type": "markdown",
      "metadata": {
        "id": "5Le1G6k5_4K5"
      },
      "source": [
        "### Question 5 (10 points) \n",
        "Produce a simple random sample of size 44 from `full_data`. Run your analysis on it again.  Run the cell a few times to see how the histograms and statistics change across different samples."
      ]
    },
    {
      "cell_type": "code",
      "execution_count": 43,
      "metadata": {
        "colab": {
          "base_uri": "https://localhost:8080/",
          "height": 644
        },
        "id": "md5Dk_jH_4K5",
        "outputId": "0b3742d1-fe25-4e40-f6de-caec48b7018c"
      },
      "outputs": [
        {
          "output_type": "execute_result",
          "data": {
            "text/plain": [
              "array([  2.53409091e+01,   4.48587070e+06])"
            ]
          },
          "metadata": {},
          "execution_count": 43
        },
        {
          "output_type": "display_data",
          "data": {
            "text/plain": [
              "<Figure size 432x288 with 1 Axes>"
            ],
            "image/png": "[encoded data removed]"
          },
          "metadata": {}
        },
        {
          "output_type": "display_data",
          "data": {
            "text/plain": [
              "<Figure size 432x288 with 1 Axes>"
            ],
            "image/png": "[encoded data removed]"
          },
          "metadata": {}
        }
      ],
      "source": [
        "my_small_srswor_data = full_data.sample(44,with_replacement=False)\n",
        "my_small_statistics = compute_statistics(my_small_srswor_data)\n",
        "my_small_statistics\n"
      ]
    },
    {
      "cell_type": "markdown",
      "metadata": {
        "id": "W1LJ-14w_4K5"
      },
      "source": [
        "Before you move on, write a short answer for the following questions in English:\n",
        "\n",
        "(1) How much does the average age change across samples?\n",
        "\n",
        "(2) What about average salary?"
      ]
    },
    {
      "cell_type": "code",
      "execution_count": 35,
      "metadata": {
        "colab": {
          "base_uri": "https://localhost:8080/",
          "height": 70
        },
        "id": "bg0u97b-_4K5",
        "outputId": "4185ffa5-b6a3-4781-8fb4-81b6e821acda"
      },
      "outputs": [
        {
          "output_type": "execute_result",
          "data": {
            "text/plain": [
              "\"\\nAnswer: \\n1) The samples provided show relatively little variation in average age.\\nThe average age of players is around the same.\\n2) Given the huge fluctuation of range accessible, the average salary greatly fluctuates with the player's salary.\\nThe typical wage is 2175560.204545454 dollars.\\n\\n\\n\""
            ],
            "application/vnd.google.colaboratory.intrinsic+json": {
              "type": "string"
            }
          },
          "metadata": {},
          "execution_count": 35
        }
      ],
      "source": [
        "### Please write your answer here (no code required)\n",
        "\n",
        "\"\"\"\n",
        "Answer: \n",
        "1) The samples provided show relatively little variation in average age.\n",
        "The average age of players is around the same.\n",
        "2) Given the huge fluctuation of range accessible, the average salary greatly fluctuates with the player's salary.\n",
        "The typical wage is 2175560.204545454 dollars.\n",
        "\n",
        "\n",
        "\"\"\""
      ]
    },
    {
      "cell_type": "markdown",
      "metadata": {
        "id": "dcUqnsTS_4K6"
      },
      "source": [
        "### Question 6 (15 points) - Optional/ Additional extra credit if you loose marks on above questions\n",
        "As in the previous question, analyze several simple random samples of size 100 from `full_data`.  "
      ]
    },
    {
      "cell_type": "code",
      "execution_count": 57,
      "metadata": {
        "colab": {
          "base_uri": "https://localhost:8080/",
          "height": 644
        },
        "id": "8zRP3-MI_4K6",
        "outputId": "929086ff-61d5-4bfe-d2d4-923b86c3c427"
      },
      "outputs": [
        {
          "output_type": "execute_result",
          "data": {
            "text/plain": [
              "array([  2.64800000e+01,   5.00048343e+06])"
            ]
          },
          "metadata": {},
          "execution_count": 57
        },
        {
          "output_type": "display_data",
          "data": {
            "text/plain": [
              "<Figure size 432x288 with 1 Axes>"
            ],
            "image/png": "[encoded data removed]"
          },
          "metadata": {}
        },
        {
          "output_type": "display_data",
          "data": {
            "text/plain": [
              "<Figure size 432x288 with 1 Axes>"
            ],
            "image/png": "[encoded data removed]"
          },
          "metadata": {}
        }
      ],
      "source": [
        "my_large_srswor_data = full_data.sample(100,with_replacement=False)\n",
        "my_large_statistics = compute_statistics(my_large_srswor_data)\n",
        "my_large_statistics"
      ]
    },
    {
      "cell_type": "markdown",
      "metadata": {
        "id": "CC44sKm1_4K6"
      },
      "source": [
        "Answer the following questions in English:\n",
        "\n",
        "(1) Do the histogram shapes seem to change more or less across samples of 100 than across samples of size 44?\n",
        "\n",
        "(2) Are the sample averages and histograms closer to their true values/shape for age or for salary? What did you expect to see?"
      ]
    },
    {
      "cell_type": "code",
      "execution_count": 32,
      "metadata": {
        "colab": {
          "base_uri": "https://localhost:8080/",
          "height": 87
        },
        "id": "12yKDUeB_4K6",
        "outputId": "4bc0b97e-cb0d-4914-fdab-2ccc09f69add"
      },
      "outputs": [
        {
          "output_type": "execute_result",
          "data": {
            "text/plain": [
              "\"\\nAnswer: \\n1) In comparison to example 44, the histogram's range of values varies much less in sample 100.\\n2) I had anticipated that the sample's histograms and sample averages would be more accurate representations of its true value. As we can see from the histograms above for both samples, the sampling averages and histograms for 100 records have values that are more accurate than those for sample 44.\\n\""
            ],
            "application/vnd.google.colaboratory.intrinsic+json": {
              "type": "string"
            }
          },
          "metadata": {},
          "execution_count": 32
        }
      ],
      "source": [
        "### Please write your answer here (no code required)\n",
        "\n",
        "\"\"\"\n",
        "Answer: \n",
        "1) In comparison to example 44, the histogram's range of values varies much less in sample 100.\n",
        "2) I had anticipated that the sample's histograms and sample averages would be more accurate representations of its true value. As we can see from the histograms above for both samples, the sampling averages and histograms for 100 records have values that are more accurate than those for sample 44.\n",
        "\"\"\""
      ]
    }
  ],
  "metadata": {
    "kernelspec": {
      "display_name": "Python 3 (ipykernel)",
      "language": "python",
      "name": "python3"
    },
    "language_info": {
      "codemirror_mode": {
        "name": "ipython",
        "version": 3
      },
      "file_extension": ".py",
      "mimetype": "text/x-python",
      "name": "python",
      "nbconvert_exporter": "python",
      "pygments_lexer": "ipython3",
      "version": "3.9.12"
    },
    "colab": {
      "name": "lab_assignment_07-3.ipynb",
      "provenance": [],
      "collapsed_sections": [],
      "include_colab_link": true
    }
  },
  "nbformat": 4,
  "nbformat_minor": 0
}